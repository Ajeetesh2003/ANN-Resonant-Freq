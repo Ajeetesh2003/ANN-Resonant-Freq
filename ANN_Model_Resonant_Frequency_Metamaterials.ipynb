{
  "metadata": {
    "kernelspec": {
      "language": "python",
      "display_name": "Python 3",
      "name": "python3"
    },
    "language_info": {
      "name": "python",
      "version": "3.10.13",
      "mimetype": "text/x-python",
      "codemirror_mode": {
        "name": "ipython",
        "version": 3
      },
      "pygments_lexer": "ipython3",
      "nbconvert_exporter": "python",
      "file_extension": ".py"
    },
    "kaggle": {
      "accelerator": "none",
      "dataSources": [
        {
          "sourceId": 8030742,
          "sourceType": "datasetVersion",
          "datasetId": 4733434
        }
      ],
      "dockerImageVersionId": 30673,
      "isInternetEnabled": false,
      "language": "python",
      "sourceType": "notebook",
      "isGpuEnabled": false
    },
    "colab": {
      "provenance": []
    }
  },
  "nbformat_minor": 0,
  "nbformat": 4,
  "cells": [
    {
      "source": [
        "\n",
        "# IMPORTANT: RUN THIS CELL IN ORDER TO IMPORT YOUR KAGGLE DATA SOURCES\n",
        "# TO THE CORRECT LOCATION (/kaggle/input) IN YOUR NOTEBOOK,\n",
        "# THEN FEEL FREE TO DELETE THIS CELL.\n",
        "# NOTE: THIS NOTEBOOK ENVIRONMENT DIFFERS FROM KAGGLE'S PYTHON\n",
        "# ENVIRONMENT SO THERE MAY BE MISSING LIBRARIES USED BY YOUR\n",
        "# NOTEBOOK.\n",
        "\n",
        "import os\n",
        "import sys\n",
        "from tempfile import NamedTemporaryFile\n",
        "from urllib.request import urlopen\n",
        "from urllib.parse import unquote, urlparse\n",
        "from urllib.error import HTTPError\n",
        "from zipfile import ZipFile\n",
        "import tarfile\n",
        "import shutil\n",
        "\n",
        "CHUNK_SIZE = 40960\n",
        "DATA_SOURCE_MAPPING = 'sample-data:https%3A%2F%2Fstorage.googleapis.com%2Fkaggle-data-sets%2F4733434%2F8030742%2Fbundle%2Farchive.zip%3FX-Goog-Algorithm%3DGOOG4-RSA-SHA256%26X-Goog-Credential%3Dgcp-kaggle-com%2540kaggle-161607.iam.gserviceaccount.com%252F20240706%252Fauto%252Fstorage%252Fgoog4_request%26X-Goog-Date%3D20240706T184224Z%26X-Goog-Expires%3D259200%26X-Goog-SignedHeaders%3Dhost%26X-Goog-Signature%3D877b3dfcccebd7d8a563913779cfc90613e8567362b39cc6edb2c1c530d6a884a9dceabfb33cd434389faa535ff10d85e8ad4f755a862cbe6139b95abd919048b03905be5722b007522e0a2ee1bcfb5dc68a2beafde7b823d0e445aebd0cf153a2469435e42d4f6d5b576bd7201e2e4895a8b9e04f416a53f679908ed018bab9a6ffc5692376fe46999032aeb5c28222226806bb024b7bb71f5248c1a7dd8f19f876d780a25e863e769fbac14d6c6b750ed676510b078daef058f6559c150bdfc70db741b01445d448140856af4320a7e5f0f53ca803170b5186170701a3f5888a6330e40988f7f69fada2a8a67efa69d1cb344e1aa86987dd12486ea93b12d9'\n",
        "\n",
        "KAGGLE_INPUT_PATH='/kaggle/input'\n",
        "KAGGLE_WORKING_PATH='/kaggle/working'\n",
        "KAGGLE_SYMLINK='kaggle'\n",
        "\n",
        "!umount /kaggle/input/ 2> /dev/null\n",
        "shutil.rmtree('/kaggle/input', ignore_errors=True)\n",
        "os.makedirs(KAGGLE_INPUT_PATH, 0o777, exist_ok=True)\n",
        "os.makedirs(KAGGLE_WORKING_PATH, 0o777, exist_ok=True)\n",
        "\n",
        "try:\n",
        "  os.symlink(KAGGLE_INPUT_PATH, os.path.join(\"..\", 'input'), target_is_directory=True)\n",
        "except FileExistsError:\n",
        "  pass\n",
        "try:\n",
        "  os.symlink(KAGGLE_WORKING_PATH, os.path.join(\"..\", 'working'), target_is_directory=True)\n",
        "except FileExistsError:\n",
        "  pass\n",
        "\n",
        "for data_source_mapping in DATA_SOURCE_MAPPING.split(','):\n",
        "    directory, download_url_encoded = data_source_mapping.split(':')\n",
        "    download_url = unquote(download_url_encoded)\n",
        "    filename = urlparse(download_url).path\n",
        "    destination_path = os.path.join(KAGGLE_INPUT_PATH, directory)\n",
        "    try:\n",
        "        with urlopen(download_url) as fileres, NamedTemporaryFile() as tfile:\n",
        "            total_length = fileres.headers['content-length']\n",
        "            print(f'Downloading {directory}, {total_length} bytes compressed')\n",
        "            dl = 0\n",
        "            data = fileres.read(CHUNK_SIZE)\n",
        "            while len(data) > 0:\n",
        "                dl += len(data)\n",
        "                tfile.write(data)\n",
        "                done = int(50 * dl / int(total_length))\n",
        "                sys.stdout.write(f\"\\r[{'=' * done}{' ' * (50-done)}] {dl} bytes downloaded\")\n",
        "                sys.stdout.flush()\n",
        "                data = fileres.read(CHUNK_SIZE)\n",
        "            if filename.endswith('.zip'):\n",
        "              with ZipFile(tfile) as zfile:\n",
        "                zfile.extractall(destination_path)\n",
        "            else:\n",
        "              with tarfile.open(tfile.name) as tarfile:\n",
        "                tarfile.extractall(destination_path)\n",
        "            print(f'\\nDownloaded and uncompressed: {directory}')\n",
        "    except HTTPError as e:\n",
        "        print(f'Failed to load (likely expired) {download_url} to path {destination_path}')\n",
        "        continue\n",
        "    except OSError as e:\n",
        "        print(f'Failed to load {download_url} to path {destination_path}')\n",
        "        continue\n",
        "\n",
        "print('Data source import complete.')\n"
      ],
      "metadata": {
        "id": "49f2vPRiWs7g"
      },
      "cell_type": "code",
      "outputs": [],
      "execution_count": null
    },
    {
      "cell_type": "code",
      "source": [
        "# This Python 3 environment comes with many helpful analytics libraries installed\n",
        "# It is defined by the kaggle/python Docker image: https://github.com/kaggle/docker-python\n",
        "# For example, here's several helpful packages to load\n",
        "\n",
        "import numpy as np # linear algebra\n",
        "import pandas as pd # data processing, CSV file I/O (e.g. pd.read_csv)\n",
        "\n",
        "# Input data files are available in the read-only \"../input/\" directory\n",
        "# For example, running this (by clicking run or pressing Shift+Enter) will list all files under the input directory\n",
        "\n",
        "import os\n",
        "for dirname, _, filenames in os.walk('/kaggle/input'):\n",
        "    for filename in filenames:\n",
        "        print(os.path.join(dirname, filename))\n",
        "\n",
        "# You can write up to 20GB to the current directory (/kaggle/working/) that gets preserved as output when you create a version using \"Save & Run All\"\n",
        "# You can also write temporary files to /kaggle/temp/, but they won't be saved outside of the current session"
      ],
      "metadata": {
        "_uuid": "8f2839f25d086af736a60e9eeb907d3b93b6e0e5",
        "_cell_guid": "b1076dfc-b9ad-4769-8c92-a6c4dae69d19",
        "execution": {
          "iopub.status.busy": "2024-04-21T20:34:00.001752Z",
          "iopub.execute_input": "2024-04-21T20:34:00.00218Z",
          "iopub.status.idle": "2024-04-21T20:34:01.332903Z",
          "shell.execute_reply.started": "2024-04-21T20:34:00.00214Z",
          "shell.execute_reply": "2024-04-21T20:34:01.331977Z"
        },
        "trusted": true,
        "id": "PVu5mmfsWs7l",
        "outputId": "5293cc5d-5e39-40d8-b634-69d9c6ed2903"
      },
      "execution_count": null,
      "outputs": [
        {
          "name": "stdout",
          "text": "/kaggle/input/sample-data/Sample Data.csv\n",
          "output_type": "stream"
        }
      ]
    },
    {
      "cell_type": "code",
      "source": [
        "import time\n",
        "import tensorflow\n",
        "from tensorflow import keras\n",
        "from keras import Sequential\n",
        "from keras.layers import Dense\n",
        "from keras.layers import Dropout\n",
        "from keras.optimizers import Adam"
      ],
      "metadata": {
        "execution": {
          "iopub.status.busy": "2024-04-21T20:34:05.587085Z",
          "iopub.execute_input": "2024-04-21T20:34:05.587599Z",
          "iopub.status.idle": "2024-04-21T20:34:21.586217Z",
          "shell.execute_reply.started": "2024-04-21T20:34:05.587567Z",
          "shell.execute_reply": "2024-04-21T20:34:21.584829Z"
        },
        "trusted": true,
        "id": "EBBYsW_TWs7o",
        "outputId": "2a4fb8e7-060d-4158-ea48-7537b0dd6f93"
      },
      "execution_count": null,
      "outputs": [
        {
          "name": "stderr",
          "text": "2024-04-21 20:34:08.072342: E external/local_xla/xla/stream_executor/cuda/cuda_dnn.cc:9261] Unable to register cuDNN factory: Attempting to register factory for plugin cuDNN when one has already been registered\n2024-04-21 20:34:08.072479: E external/local_xla/xla/stream_executor/cuda/cuda_fft.cc:607] Unable to register cuFFT factory: Attempting to register factory for plugin cuFFT when one has already been registered\n2024-04-21 20:34:08.273431: E external/local_xla/xla/stream_executor/cuda/cuda_blas.cc:1515] Unable to register cuBLAS factory: Attempting to register factory for plugin cuBLAS when one has already been registered\n",
          "output_type": "stream"
        }
      ]
    },
    {
      "cell_type": "code",
      "source": [
        "import plotly.express as px\n",
        "from sklearn.decomposition import PCA"
      ],
      "metadata": {
        "execution": {
          "iopub.status.busy": "2024-04-21T20:34:23.055826Z",
          "iopub.execute_input": "2024-04-21T20:34:23.05736Z",
          "iopub.status.idle": "2024-04-21T20:34:25.404715Z",
          "shell.execute_reply.started": "2024-04-21T20:34:23.057307Z",
          "shell.execute_reply": "2024-04-21T20:34:25.403653Z"
        },
        "trusted": true,
        "id": "vW25k5IOWs7p"
      },
      "execution_count": null,
      "outputs": []
    },
    {
      "cell_type": "code",
      "source": [
        "df = pd.read_csv('/kaggle/input/sample-data/Sample Data.csv')"
      ],
      "metadata": {
        "execution": {
          "iopub.status.busy": "2024-04-21T20:34:26.735874Z",
          "iopub.execute_input": "2024-04-21T20:34:26.736286Z",
          "iopub.status.idle": "2024-04-21T20:34:26.751875Z",
          "shell.execute_reply.started": "2024-04-21T20:34:26.736252Z",
          "shell.execute_reply": "2024-04-21T20:34:26.750709Z"
        },
        "trusted": true,
        "id": "46fL8RtKWs7q"
      },
      "execution_count": null,
      "outputs": []
    },
    {
      "cell_type": "code",
      "source": [
        "df.head()"
      ],
      "metadata": {
        "execution": {
          "iopub.status.busy": "2024-04-21T20:34:27.458468Z",
          "iopub.execute_input": "2024-04-21T20:34:27.459163Z",
          "iopub.status.idle": "2024-04-21T20:34:27.48435Z",
          "shell.execute_reply.started": "2024-04-21T20:34:27.459118Z",
          "shell.execute_reply": "2024-04-21T20:34:27.483114Z"
        },
        "trusted": true,
        "id": "_xN8n59RWs7r",
        "outputId": "be406ccd-d1aa-4d7e-f35a-cdad4996d6c6"
      },
      "execution_count": null,
      "outputs": [
        {
          "execution_count": 5,
          "output_type": "execute_result",
          "data": {
            "text/plain": "    L   W   s   d     h  epsr  Resonant Freq\n0  30  25  15   8  1.57  2.33          2.969\n1  30  25  25   4  1.57  2.33          3.128\n2  30  25  25  12  1.57  2.33          2.640\n3  30  25  10  16  1.57  4.50          2.200\n4  30  25  10   4  1.57  6.15          2.013",
            "text/html": "<div>\n<style scoped>\n    .dataframe tbody tr th:only-of-type {\n        vertical-align: middle;\n    }\n\n    .dataframe tbody tr th {\n        vertical-align: top;\n    }\n\n    .dataframe thead th {\n        text-align: right;\n    }\n</style>\n<table border=\"1\" class=\"dataframe\">\n  <thead>\n    <tr style=\"text-align: right;\">\n      <th></th>\n      <th>L</th>\n      <th>W</th>\n      <th>s</th>\n      <th>d</th>\n      <th>h</th>\n      <th>epsr</th>\n      <th>Resonant Freq</th>\n    </tr>\n  </thead>\n  <tbody>\n    <tr>\n      <th>0</th>\n      <td>30</td>\n      <td>25</td>\n      <td>15</td>\n      <td>8</td>\n      <td>1.57</td>\n      <td>2.33</td>\n      <td>2.969</td>\n    </tr>\n    <tr>\n      <th>1</th>\n      <td>30</td>\n      <td>25</td>\n      <td>25</td>\n      <td>4</td>\n      <td>1.57</td>\n      <td>2.33</td>\n      <td>3.128</td>\n    </tr>\n    <tr>\n      <th>2</th>\n      <td>30</td>\n      <td>25</td>\n      <td>25</td>\n      <td>12</td>\n      <td>1.57</td>\n      <td>2.33</td>\n      <td>2.640</td>\n    </tr>\n    <tr>\n      <th>3</th>\n      <td>30</td>\n      <td>25</td>\n      <td>10</td>\n      <td>16</td>\n      <td>1.57</td>\n      <td>4.50</td>\n      <td>2.200</td>\n    </tr>\n    <tr>\n      <th>4</th>\n      <td>30</td>\n      <td>25</td>\n      <td>10</td>\n      <td>4</td>\n      <td>1.57</td>\n      <td>6.15</td>\n      <td>2.013</td>\n    </tr>\n  </tbody>\n</table>\n</div>"
          },
          "metadata": {}
        }
      ]
    },
    {
      "cell_type": "code",
      "source": [
        "# # Assuming df contains your data\n",
        "# # X contains your input features, and y contains your output/target variable\n",
        "# X = df[['L', 'W', 's', 'd', 'h', 'epsr']]\n",
        "# y = df['Resonant Freq']\n",
        "\n",
        "# # Perform PCA to reduce dimensions to 3D\n",
        "# pca = PCA(n_components=3)\n",
        "# X_pca = pca.fit_transform(X)\n",
        "\n",
        "# # Create a DataFrame with reduced dimensions\n",
        "# df_pca = pd.DataFrame(X_pca, columns=['PC1', 'PC2', 'PC3'])\n",
        "\n",
        "# # Add output variable to the DataFrame\n",
        "# df_pca['output'] = y\n",
        "\n",
        "# # Plot the 3D scatter plot\n",
        "# fig = px.scatter_3d(df_pca, x='PC1', y='PC2', z='PC3', color='output')\n",
        "# fig.show()"
      ],
      "metadata": {
        "execution": {
          "iopub.status.busy": "2024-04-21T20:34:29.399004Z",
          "iopub.execute_input": "2024-04-21T20:34:29.399464Z",
          "iopub.status.idle": "2024-04-21T20:34:29.40738Z",
          "shell.execute_reply.started": "2024-04-21T20:34:29.399428Z",
          "shell.execute_reply": "2024-04-21T20:34:29.405888Z"
        },
        "trusted": true,
        "id": "WOYu-7O6Ws7s"
      },
      "execution_count": null,
      "outputs": []
    },
    {
      "cell_type": "code",
      "source": [
        "df.info()"
      ],
      "metadata": {
        "execution": {
          "iopub.status.busy": "2024-04-21T20:34:32.439918Z",
          "iopub.execute_input": "2024-04-21T20:34:32.440354Z",
          "iopub.status.idle": "2024-04-21T20:34:32.470489Z",
          "shell.execute_reply.started": "2024-04-21T20:34:32.440321Z",
          "shell.execute_reply": "2024-04-21T20:34:32.469608Z"
        },
        "trusted": true,
        "id": "kg_FQbOyWs7t",
        "outputId": "5d4a21b5-d371-4b96-f95b-d64c08cf6476"
      },
      "execution_count": null,
      "outputs": [
        {
          "name": "stdout",
          "text": "<class 'pandas.core.frame.DataFrame'>\nRangeIndex: 22 entries, 0 to 21\nData columns (total 7 columns):\n #   Column         Non-Null Count  Dtype  \n---  ------         --------------  -----  \n 0   L              22 non-null     int64  \n 1   W              22 non-null     int64  \n 2   s              22 non-null     int64  \n 3   d              22 non-null     int64  \n 4   h              22 non-null     float64\n 5   epsr           22 non-null     float64\n 6   Resonant Freq  22 non-null     float64\ndtypes: float64(3), int64(4)\nmemory usage: 1.3 KB\n",
          "output_type": "stream"
        }
      ]
    },
    {
      "cell_type": "code",
      "source": [
        "df.duplicated().sum()"
      ],
      "metadata": {
        "execution": {
          "iopub.status.busy": "2024-04-21T20:34:34.760508Z",
          "iopub.execute_input": "2024-04-21T20:34:34.761331Z",
          "iopub.status.idle": "2024-04-21T20:34:34.771442Z",
          "shell.execute_reply.started": "2024-04-21T20:34:34.761283Z",
          "shell.execute_reply": "2024-04-21T20:34:34.769838Z"
        },
        "trusted": true,
        "id": "zf-ngd1PWs7v",
        "outputId": "4d9e0772-c584-47b2-84a7-b8cc37715c9d"
      },
      "execution_count": null,
      "outputs": [
        {
          "execution_count": 8,
          "output_type": "execute_result",
          "data": {
            "text/plain": "0"
          },
          "metadata": {}
        }
      ]
    },
    {
      "cell_type": "code",
      "source": [
        "x = df.iloc[:, 0:-1]\n",
        "y = df.iloc[:, -1]"
      ],
      "metadata": {
        "execution": {
          "iopub.status.busy": "2024-04-21T20:34:35.353925Z",
          "iopub.execute_input": "2024-04-21T20:34:35.354351Z",
          "iopub.status.idle": "2024-04-21T20:34:35.36216Z",
          "shell.execute_reply.started": "2024-04-21T20:34:35.354317Z",
          "shell.execute_reply": "2024-04-21T20:34:35.361047Z"
        },
        "trusted": true,
        "id": "-Bmj-cd9Ws7v"
      },
      "execution_count": null,
      "outputs": []
    },
    {
      "cell_type": "code",
      "source": [
        "x"
      ],
      "metadata": {
        "execution": {
          "iopub.status.busy": "2024-04-21T20:34:36.734979Z",
          "iopub.execute_input": "2024-04-21T20:34:36.735977Z",
          "iopub.status.idle": "2024-04-21T20:34:36.755645Z",
          "shell.execute_reply.started": "2024-04-21T20:34:36.735928Z",
          "shell.execute_reply": "2024-04-21T20:34:36.754217Z"
        },
        "trusted": true,
        "id": "Nc48aanlWs7v",
        "outputId": "262cdc64-bdcc-430f-e874-3ddca6531fe5"
      },
      "execution_count": null,
      "outputs": [
        {
          "execution_count": 10,
          "output_type": "execute_result",
          "data": {
            "text/plain": "     L   W   s   d     h  epsr\n0   30  25  15   8  1.57  2.33\n1   30  25  25   4  1.57  2.33\n2   30  25  25  12  1.57  2.33\n3   30  25  10  16  1.57  4.50\n4   30  25  10   4  1.57  6.15\n5   30  25  20  16  1.57  6.15\n6   30  25  20  16  1.57  9.80\n7   30  25  10   8  1.57  2.33\n8   40  30  25   5  2.50  2.33\n9   40  30  30  20  2.50  2.33\n10  40  30  25   5  2.50  4.50\n11  40  30  35  10  2.50  4.50\n12  40  30  20  10  2.50  6.15\n13  40  30  30  20  2.50  6.15\n14  40  30  20  15  2.50  9.80\n15  50  35  30   6  3.17  2.33\n16  50  35  35  18  3.17  2.33\n17  50  35  35   6  3.17  4.50\n18  50  35  40  12  3.17  4.50\n19  50  35  35  12  3.17  6.15\n20  50  35  45  24  3.17  6.15\n21  50  45  22  20  8.00  1.07",
            "text/html": "<div>\n<style scoped>\n    .dataframe tbody tr th:only-of-type {\n        vertical-align: middle;\n    }\n\n    .dataframe tbody tr th {\n        vertical-align: top;\n    }\n\n    .dataframe thead th {\n        text-align: right;\n    }\n</style>\n<table border=\"1\" class=\"dataframe\">\n  <thead>\n    <tr style=\"text-align: right;\">\n      <th></th>\n      <th>L</th>\n      <th>W</th>\n      <th>s</th>\n      <th>d</th>\n      <th>h</th>\n      <th>epsr</th>\n    </tr>\n  </thead>\n  <tbody>\n    <tr>\n      <th>0</th>\n      <td>30</td>\n      <td>25</td>\n      <td>15</td>\n      <td>8</td>\n      <td>1.57</td>\n      <td>2.33</td>\n    </tr>\n    <tr>\n      <th>1</th>\n      <td>30</td>\n      <td>25</td>\n      <td>25</td>\n      <td>4</td>\n      <td>1.57</td>\n      <td>2.33</td>\n    </tr>\n    <tr>\n      <th>2</th>\n      <td>30</td>\n      <td>25</td>\n      <td>25</td>\n      <td>12</td>\n      <td>1.57</td>\n      <td>2.33</td>\n    </tr>\n    <tr>\n      <th>3</th>\n      <td>30</td>\n      <td>25</td>\n      <td>10</td>\n      <td>16</td>\n      <td>1.57</td>\n      <td>4.50</td>\n    </tr>\n    <tr>\n      <th>4</th>\n      <td>30</td>\n      <td>25</td>\n      <td>10</td>\n      <td>4</td>\n      <td>1.57</td>\n      <td>6.15</td>\n    </tr>\n    <tr>\n      <th>5</th>\n      <td>30</td>\n      <td>25</td>\n      <td>20</td>\n      <td>16</td>\n      <td>1.57</td>\n      <td>6.15</td>\n    </tr>\n    <tr>\n      <th>6</th>\n      <td>30</td>\n      <td>25</td>\n      <td>20</td>\n      <td>16</td>\n      <td>1.57</td>\n      <td>9.80</td>\n    </tr>\n    <tr>\n      <th>7</th>\n      <td>30</td>\n      <td>25</td>\n      <td>10</td>\n      <td>8</td>\n      <td>1.57</td>\n      <td>2.33</td>\n    </tr>\n    <tr>\n      <th>8</th>\n      <td>40</td>\n      <td>30</td>\n      <td>25</td>\n      <td>5</td>\n      <td>2.50</td>\n      <td>2.33</td>\n    </tr>\n    <tr>\n      <th>9</th>\n      <td>40</td>\n      <td>30</td>\n      <td>30</td>\n      <td>20</td>\n      <td>2.50</td>\n      <td>2.33</td>\n    </tr>\n    <tr>\n      <th>10</th>\n      <td>40</td>\n      <td>30</td>\n      <td>25</td>\n      <td>5</td>\n      <td>2.50</td>\n      <td>4.50</td>\n    </tr>\n    <tr>\n      <th>11</th>\n      <td>40</td>\n      <td>30</td>\n      <td>35</td>\n      <td>10</td>\n      <td>2.50</td>\n      <td>4.50</td>\n    </tr>\n    <tr>\n      <th>12</th>\n      <td>40</td>\n      <td>30</td>\n      <td>20</td>\n      <td>10</td>\n      <td>2.50</td>\n      <td>6.15</td>\n    </tr>\n    <tr>\n      <th>13</th>\n      <td>40</td>\n      <td>30</td>\n      <td>30</td>\n      <td>20</td>\n      <td>2.50</td>\n      <td>6.15</td>\n    </tr>\n    <tr>\n      <th>14</th>\n      <td>40</td>\n      <td>30</td>\n      <td>20</td>\n      <td>15</td>\n      <td>2.50</td>\n      <td>9.80</td>\n    </tr>\n    <tr>\n      <th>15</th>\n      <td>50</td>\n      <td>35</td>\n      <td>30</td>\n      <td>6</td>\n      <td>3.17</td>\n      <td>2.33</td>\n    </tr>\n    <tr>\n      <th>16</th>\n      <td>50</td>\n      <td>35</td>\n      <td>35</td>\n      <td>18</td>\n      <td>3.17</td>\n      <td>2.33</td>\n    </tr>\n    <tr>\n      <th>17</th>\n      <td>50</td>\n      <td>35</td>\n      <td>35</td>\n      <td>6</td>\n      <td>3.17</td>\n      <td>4.50</td>\n    </tr>\n    <tr>\n      <th>18</th>\n      <td>50</td>\n      <td>35</td>\n      <td>40</td>\n      <td>12</td>\n      <td>3.17</td>\n      <td>4.50</td>\n    </tr>\n    <tr>\n      <th>19</th>\n      <td>50</td>\n      <td>35</td>\n      <td>35</td>\n      <td>12</td>\n      <td>3.17</td>\n      <td>6.15</td>\n    </tr>\n    <tr>\n      <th>20</th>\n      <td>50</td>\n      <td>35</td>\n      <td>45</td>\n      <td>24</td>\n      <td>3.17</td>\n      <td>6.15</td>\n    </tr>\n    <tr>\n      <th>21</th>\n      <td>50</td>\n      <td>45</td>\n      <td>22</td>\n      <td>20</td>\n      <td>8.00</td>\n      <td>1.07</td>\n    </tr>\n  </tbody>\n</table>\n</div>"
          },
          "metadata": {}
        }
      ]
    },
    {
      "cell_type": "code",
      "source": [
        "y"
      ],
      "metadata": {
        "execution": {
          "iopub.status.busy": "2024-04-21T20:34:39.344287Z",
          "iopub.execute_input": "2024-04-21T20:34:39.345075Z",
          "iopub.status.idle": "2024-04-21T20:34:39.356756Z",
          "shell.execute_reply.started": "2024-04-21T20:34:39.344992Z",
          "shell.execute_reply": "2024-04-21T20:34:39.355554Z"
        },
        "trusted": true,
        "id": "Uko77E0fWs7w",
        "outputId": "5f179bd9-c39f-41c8-e468-c20fc7aafed6"
      },
      "execution_count": null,
      "outputs": [
        {
          "execution_count": 11,
          "output_type": "execute_result",
          "data": {
            "text/plain": "0     2.969\n1     3.128\n2     2.640\n3     2.200\n4     2.013\n5     1.563\n6     1.244\n7     3.130\n8     2.359\n9     1.844\n10    1.713\n11    1.650\n12    1.432\n13    1.183\n14    1.090\n15    1.904\n16    1.635\n17    1.380\n18    1.303\n19    1.114\n20    0.983\n21    2.680\nName: Resonant Freq, dtype: float64"
          },
          "metadata": {}
        }
      ]
    },
    {
      "cell_type": "code",
      "source": [
        "from sklearn.model_selection import train_test_split\n",
        "X_train, X_test, y_train, y_test = train_test_split(x,y, test_size=0.4, random_state=1)"
      ],
      "metadata": {
        "execution": {
          "iopub.status.busy": "2024-04-21T20:34:41.468667Z",
          "iopub.execute_input": "2024-04-21T20:34:41.469988Z",
          "iopub.status.idle": "2024-04-21T20:34:41.479642Z",
          "shell.execute_reply.started": "2024-04-21T20:34:41.469933Z",
          "shell.execute_reply": "2024-04-21T20:34:41.478423Z"
        },
        "trusted": true,
        "id": "RmVKYq8BWs7w"
      },
      "execution_count": null,
      "outputs": []
    },
    {
      "cell_type": "code",
      "source": [
        "X_train"
      ],
      "metadata": {
        "execution": {
          "iopub.status.busy": "2024-04-21T20:34:42.434778Z",
          "iopub.execute_input": "2024-04-21T20:34:42.435164Z",
          "iopub.status.idle": "2024-04-21T20:34:42.451183Z",
          "shell.execute_reply.started": "2024-04-21T20:34:42.435135Z",
          "shell.execute_reply": "2024-04-21T20:34:42.450234Z"
        },
        "trusted": true,
        "id": "jMQu26tfWs7w",
        "outputId": "2609c90d-fbb3-4cc9-82e9-c93249d72971"
      },
      "execution_count": null,
      "outputs": [
        {
          "execution_count": 13,
          "output_type": "execute_result",
          "data": {
            "text/plain": "     L   W   s   d     h  epsr\n17  50  35  35   6  3.17  4.50\n6   30  25  20  16  1.57  9.80\n7   30  25  10   8  1.57  2.33\n1   30  25  25   4  1.57  2.33\n14  40  30  20  15  2.50  9.80\n0   30  25  15   8  1.57  2.33\n21  50  45  22  20  8.00  1.07\n20  50  35  45  24  3.17  6.15\n9   40  30  30  20  2.50  2.33\n8   40  30  25   5  2.50  2.33\n12  40  30  20  10  2.50  6.15\n11  40  30  35  10  2.50  4.50\n5   30  25  20  16  1.57  6.15",
            "text/html": "<div>\n<style scoped>\n    .dataframe tbody tr th:only-of-type {\n        vertical-align: middle;\n    }\n\n    .dataframe tbody tr th {\n        vertical-align: top;\n    }\n\n    .dataframe thead th {\n        text-align: right;\n    }\n</style>\n<table border=\"1\" class=\"dataframe\">\n  <thead>\n    <tr style=\"text-align: right;\">\n      <th></th>\n      <th>L</th>\n      <th>W</th>\n      <th>s</th>\n      <th>d</th>\n      <th>h</th>\n      <th>epsr</th>\n    </tr>\n  </thead>\n  <tbody>\n    <tr>\n      <th>17</th>\n      <td>50</td>\n      <td>35</td>\n      <td>35</td>\n      <td>6</td>\n      <td>3.17</td>\n      <td>4.50</td>\n    </tr>\n    <tr>\n      <th>6</th>\n      <td>30</td>\n      <td>25</td>\n      <td>20</td>\n      <td>16</td>\n      <td>1.57</td>\n      <td>9.80</td>\n    </tr>\n    <tr>\n      <th>7</th>\n      <td>30</td>\n      <td>25</td>\n      <td>10</td>\n      <td>8</td>\n      <td>1.57</td>\n      <td>2.33</td>\n    </tr>\n    <tr>\n      <th>1</th>\n      <td>30</td>\n      <td>25</td>\n      <td>25</td>\n      <td>4</td>\n      <td>1.57</td>\n      <td>2.33</td>\n    </tr>\n    <tr>\n      <th>14</th>\n      <td>40</td>\n      <td>30</td>\n      <td>20</td>\n      <td>15</td>\n      <td>2.50</td>\n      <td>9.80</td>\n    </tr>\n    <tr>\n      <th>0</th>\n      <td>30</td>\n      <td>25</td>\n      <td>15</td>\n      <td>8</td>\n      <td>1.57</td>\n      <td>2.33</td>\n    </tr>\n    <tr>\n      <th>21</th>\n      <td>50</td>\n      <td>45</td>\n      <td>22</td>\n      <td>20</td>\n      <td>8.00</td>\n      <td>1.07</td>\n    </tr>\n    <tr>\n      <th>20</th>\n      <td>50</td>\n      <td>35</td>\n      <td>45</td>\n      <td>24</td>\n      <td>3.17</td>\n      <td>6.15</td>\n    </tr>\n    <tr>\n      <th>9</th>\n      <td>40</td>\n      <td>30</td>\n      <td>30</td>\n      <td>20</td>\n      <td>2.50</td>\n      <td>2.33</td>\n    </tr>\n    <tr>\n      <th>8</th>\n      <td>40</td>\n      <td>30</td>\n      <td>25</td>\n      <td>5</td>\n      <td>2.50</td>\n      <td>2.33</td>\n    </tr>\n    <tr>\n      <th>12</th>\n      <td>40</td>\n      <td>30</td>\n      <td>20</td>\n      <td>10</td>\n      <td>2.50</td>\n      <td>6.15</td>\n    </tr>\n    <tr>\n      <th>11</th>\n      <td>40</td>\n      <td>30</td>\n      <td>35</td>\n      <td>10</td>\n      <td>2.50</td>\n      <td>4.50</td>\n    </tr>\n    <tr>\n      <th>5</th>\n      <td>30</td>\n      <td>25</td>\n      <td>20</td>\n      <td>16</td>\n      <td>1.57</td>\n      <td>6.15</td>\n    </tr>\n  </tbody>\n</table>\n</div>"
          },
          "metadata": {}
        }
      ]
    },
    {
      "cell_type": "code",
      "source": [
        "X_test"
      ],
      "metadata": {
        "execution": {
          "iopub.status.busy": "2024-04-21T20:34:44.295746Z",
          "iopub.execute_input": "2024-04-21T20:34:44.296394Z",
          "iopub.status.idle": "2024-04-21T20:34:44.310303Z",
          "shell.execute_reply.started": "2024-04-21T20:34:44.296357Z",
          "shell.execute_reply": "2024-04-21T20:34:44.309301Z"
        },
        "trusted": true,
        "id": "3T-UL5PbWs7x",
        "outputId": "819f56f1-ae50-4b41-b984-ae4c6e0fe0c9"
      },
      "execution_count": null,
      "outputs": [
        {
          "execution_count": 14,
          "output_type": "execute_result",
          "data": {
            "text/plain": "     L   W   s   d     h  epsr\n19  50  35  35  12  3.17  6.15\n16  50  35  35  18  3.17  2.33\n3   30  25  10  16  1.57  4.50\n13  40  30  30  20  2.50  6.15\n18  50  35  40  12  3.17  4.50\n15  50  35  30   6  3.17  2.33\n10  40  30  25   5  2.50  4.50\n4   30  25  10   4  1.57  6.15\n2   30  25  25  12  1.57  2.33",
            "text/html": "<div>\n<style scoped>\n    .dataframe tbody tr th:only-of-type {\n        vertical-align: middle;\n    }\n\n    .dataframe tbody tr th {\n        vertical-align: top;\n    }\n\n    .dataframe thead th {\n        text-align: right;\n    }\n</style>\n<table border=\"1\" class=\"dataframe\">\n  <thead>\n    <tr style=\"text-align: right;\">\n      <th></th>\n      <th>L</th>\n      <th>W</th>\n      <th>s</th>\n      <th>d</th>\n      <th>h</th>\n      <th>epsr</th>\n    </tr>\n  </thead>\n  <tbody>\n    <tr>\n      <th>19</th>\n      <td>50</td>\n      <td>35</td>\n      <td>35</td>\n      <td>12</td>\n      <td>3.17</td>\n      <td>6.15</td>\n    </tr>\n    <tr>\n      <th>16</th>\n      <td>50</td>\n      <td>35</td>\n      <td>35</td>\n      <td>18</td>\n      <td>3.17</td>\n      <td>2.33</td>\n    </tr>\n    <tr>\n      <th>3</th>\n      <td>30</td>\n      <td>25</td>\n      <td>10</td>\n      <td>16</td>\n      <td>1.57</td>\n      <td>4.50</td>\n    </tr>\n    <tr>\n      <th>13</th>\n      <td>40</td>\n      <td>30</td>\n      <td>30</td>\n      <td>20</td>\n      <td>2.50</td>\n      <td>6.15</td>\n    </tr>\n    <tr>\n      <th>18</th>\n      <td>50</td>\n      <td>35</td>\n      <td>40</td>\n      <td>12</td>\n      <td>3.17</td>\n      <td>4.50</td>\n    </tr>\n    <tr>\n      <th>15</th>\n      <td>50</td>\n      <td>35</td>\n      <td>30</td>\n      <td>6</td>\n      <td>3.17</td>\n      <td>2.33</td>\n    </tr>\n    <tr>\n      <th>10</th>\n      <td>40</td>\n      <td>30</td>\n      <td>25</td>\n      <td>5</td>\n      <td>2.50</td>\n      <td>4.50</td>\n    </tr>\n    <tr>\n      <th>4</th>\n      <td>30</td>\n      <td>25</td>\n      <td>10</td>\n      <td>4</td>\n      <td>1.57</td>\n      <td>6.15</td>\n    </tr>\n    <tr>\n      <th>2</th>\n      <td>30</td>\n      <td>25</td>\n      <td>25</td>\n      <td>12</td>\n      <td>1.57</td>\n      <td>2.33</td>\n    </tr>\n  </tbody>\n</table>\n</div>"
          },
          "metadata": {}
        }
      ]
    },
    {
      "cell_type": "code",
      "source": [
        "# from sklearn.preprocessing import StandardScaler\n",
        "# scaler = StandardScaler()\n",
        "\n",
        "# X_train_scaled = scaler.fit_transform(X_train)\n",
        "# X_test_scaled = scaler.transform(X_test)\n",
        "\n",
        "# from sklearn.preprocessing import PolynomialFeatures\n",
        "\n",
        "# poly_features = PolynomialFeatures(degree=2)\n",
        "\n",
        "# X_train_poly = poly_features.fit_transform(X_train)\n",
        "# X_test_poly = poly_features.transform(X_test)"
      ],
      "metadata": {
        "execution": {
          "iopub.status.busy": "2024-04-21T20:34:48.989288Z",
          "iopub.execute_input": "2024-04-21T20:34:48.989968Z",
          "iopub.status.idle": "2024-04-21T20:34:48.994812Z",
          "shell.execute_reply.started": "2024-04-21T20:34:48.989925Z",
          "shell.execute_reply": "2024-04-21T20:34:48.993183Z"
        },
        "trusted": true,
        "id": "0bpKwL5iWs7x"
      },
      "execution_count": null,
      "outputs": []
    },
    {
      "cell_type": "code",
      "source": [
        "# X_train_poly"
      ],
      "metadata": {
        "execution": {
          "iopub.status.busy": "2024-04-21T20:34:50.454739Z",
          "iopub.execute_input": "2024-04-21T20:34:50.455597Z",
          "iopub.status.idle": "2024-04-21T20:34:50.458919Z",
          "shell.execute_reply.started": "2024-04-21T20:34:50.455562Z",
          "shell.execute_reply": "2024-04-21T20:34:50.458142Z"
        },
        "trusted": true,
        "id": "nwU8I-njWs7x"
      },
      "execution_count": null,
      "outputs": []
    },
    {
      "cell_type": "code",
      "source": [
        "# Model Comparisons (Based on Activation funcitons)\n",
        "\n",
        "# Relu\n",
        "model1 = Sequential()\n",
        "\n",
        "model1.add(Dense(6, activation='relu', input_dim=6, kernel_regularizer=tensorflow.keras.regularizers.l2(0.05)))\n",
        "model1.add(Dense(6, activation='relu', kernel_regularizer=tensorflow.keras.regularizers.l2(0.03)))\n",
        "# model.add(Dense(4, activation='relu'))\n",
        "model1.add(Dense(1, activation='linear'))\n",
        "\n",
        "# Sigmoid\n",
        "model2 = Sequential()\n",
        "\n",
        "model2.add(Dense(6, activation='sigmoid', input_dim=6, kernel_regularizer=tensorflow.keras.regularizers.l2(0.05)))\n",
        "model2.add(Dense(6, activation='sigmoid', kernel_regularizer=tensorflow.keras.regularizers.l2(0.03)))\n",
        "model2.add(Dense(1, activation='linear'))\n",
        "\n",
        "# tanh\n",
        "model3 = Sequential()\n",
        "\n",
        "model3.add(Dense(6, activation='tanh', input_dim=6, kernel_regularizer=tensorflow.keras.regularizers.l2(0.05)))\n",
        "model3.add(Dense(6, activation='tanh', kernel_regularizer=tensorflow.keras.regularizers.l2(0.03)))\n",
        "model3.add(Dense(1, activation='linear'))\n",
        "\n",
        "#  Leaky Relu\n",
        "from tensorflow.keras.layers import LeakyReLU\n",
        "\n",
        "model4 = Sequential()\n",
        "\n",
        "model4.add(Dense(6, activation=LeakyReLU(negative_slope=0.3), input_dim=6, kernel_regularizer=tensorflow.keras.regularizers.l2(0.05)))\n",
        "model4.add(Dense(6, activation=LeakyReLU(negative_slope=0.3), kernel_regularizer=tensorflow.keras.regularizers.l2(0.03)))\n",
        "model4.add(Dense(1, activation='linear'))"
      ],
      "metadata": {
        "execution": {
          "iopub.status.busy": "2024-04-21T20:34:58.500294Z",
          "iopub.execute_input": "2024-04-21T20:34:58.501025Z",
          "iopub.status.idle": "2024-04-21T20:34:58.71369Z",
          "shell.execute_reply.started": "2024-04-21T20:34:58.500988Z",
          "shell.execute_reply": "2024-04-21T20:34:58.712459Z"
        },
        "trusted": true,
        "id": "Lhsg6saxWs7x",
        "outputId": "c2fd763e-958e-4b9a-b5f9-cd9809b7a2d1"
      },
      "execution_count": null,
      "outputs": [
        {
          "name": "stderr",
          "text": "/opt/conda/lib/python3.10/site-packages/keras/src/layers/core/dense.py:85: UserWarning: Do not pass an `input_shape`/`input_dim` argument to a layer. When using Sequential models, prefer using an `Input(shape)` object as the first layer in the model instead.\n  super().__init__(activity_regularizer=activity_regularizer, **kwargs)\n",
          "output_type": "stream"
        }
      ]
    },
    {
      "cell_type": "code",
      "source": [
        "# Model Comparisons (Based on hidden nodes)\n",
        "\n",
        "# Relu\n",
        "model1 = Sequential()\n",
        "model1.add(Dense(6, activation='relu', input_dim=6, kernel_regularizer=tensorflow.keras.regularizers.l2(0.05)))\n",
        "model1.add(Dense(6, activation='relu', kernel_regularizer=tensorflow.keras.regularizers.l2(0.03)))\n",
        "# model.add(Dense(4, activation='relu'))\n",
        "model1.add(Dense(1, activation='linear'))\n",
        "\n",
        "model2 = Sequential()\n",
        "model2.add(Dense(6, activation='relu', input_dim=6, kernel_regularizer=tensorflow.keras.regularizers.l2(0.05)))\n",
        "model2.add(Dense(3, activation='relu', kernel_regularizer=tensorflow.keras.regularizers.l2(0.03)))\n",
        "model2.add(Dense(1, activation='linear'))\n",
        "\n",
        "model3 = Sequential()\n",
        "model3.add(Dense(8, activation='relu', input_dim=6, kernel_regularizer=tensorflow.keras.regularizers.l2(0.05)))\n",
        "model3.add(Dense(4, activation='relu', kernel_regularizer=tensorflow.keras.regularizers.l2(0.03)))\n",
        "# model.add(Dense(4, activation='relu'))\n",
        "model3.add(Dense(1, activation='linear'))\n",
        "\n",
        "model4 = Sequential()\n",
        "model4.add(Dense(5, activation='relu', input_dim=6, kernel_regularizer=tensorflow.keras.regularizers.l2(0.05)))\n",
        "model4.add(Dense(7, activation='relu', kernel_regularizer=tensorflow.keras.regularizers.l2(0.03)))\n",
        "# model.add(Dense(4, activation='relu'))\n",
        "model4.add(Dense(1, activation='linear'))\n",
        "\n",
        "model5 = Sequential()\n",
        "model5.add(Dense(3, activation='relu', input_dim=6, kernel_regularizer=tensorflow.keras.regularizers.l2(0.05)))\n",
        "model5.add(Dense(3, activation='relu', kernel_regularizer=tensorflow.keras.regularizers.l2(0.03)))\n",
        "# model.add(Dense(4, activation='relu'))\n",
        "model5.add(Dense(1, activation='linear'))\n",
        "\n",
        "model6 = Sequential()\n",
        "model6.add(Dense(4, activation='relu', input_dim=6, kernel_regularizer=tensorflow.keras.regularizers.l2(0.05)))\n",
        "model6.add(Dense(6, activation='relu', kernel_regularizer=tensorflow.keras.regularizers.l2(0.03)))\n",
        "# model.add(Dense(4, activation='relu'))\n",
        "model6.add(Dense(1, activation='linear'))"
      ],
      "metadata": {
        "execution": {
          "iopub.status.busy": "2024-04-21T20:53:00.508828Z",
          "iopub.execute_input": "2024-04-21T20:53:00.509221Z",
          "iopub.status.idle": "2024-04-21T20:53:00.728082Z",
          "shell.execute_reply.started": "2024-04-21T20:53:00.509193Z",
          "shell.execute_reply": "2024-04-21T20:53:00.726852Z"
        },
        "trusted": true,
        "id": "ItUdwv_oWs7y",
        "outputId": "7d58231b-352f-4f08-d7fe-c26311d94653"
      },
      "execution_count": null,
      "outputs": [
        {
          "name": "stderr",
          "text": "/opt/conda/lib/python3.10/site-packages/keras/src/layers/core/dense.py:85: UserWarning: Do not pass an `input_shape`/`input_dim` argument to a layer. When using Sequential models, prefer using an `Input(shape)` object as the first layer in the model instead.\n  super().__init__(activity_regularizer=activity_regularizer, **kwargs)\n",
          "output_type": "stream"
        }
      ]
    },
    {
      "cell_type": "code",
      "source": [
        "model1.summary()\n",
        "model2.summary()\n",
        "model3.summary()\n",
        "model4.summary()\n",
        "model5.summary()\n",
        "model6.summary()"
      ],
      "metadata": {
        "execution": {
          "iopub.status.busy": "2024-04-21T20:53:03.132052Z",
          "iopub.execute_input": "2024-04-21T20:53:03.133256Z",
          "iopub.status.idle": "2024-04-21T20:53:03.224644Z",
          "shell.execute_reply.started": "2024-04-21T20:53:03.133218Z",
          "shell.execute_reply": "2024-04-21T20:53:03.223476Z"
        },
        "trusted": true,
        "id": "SWN50mr2Ws7y",
        "outputId": "c975b6f6-f95e-4630-c6ab-22ea4f498a76"
      },
      "execution_count": null,
      "outputs": [
        {
          "output_type": "display_data",
          "data": {
            "text/plain": "\u001b[1mModel: \"sequential_10\"\u001b[0m\n",
            "text/html": "<pre style=\"white-space:pre;overflow-x:auto;line-height:normal;font-family:Menlo,'DejaVu Sans Mono',consolas,'Courier New',monospace\"><span style=\"font-weight: bold\">Model: \"sequential_10\"</span>\n</pre>\n"
          },
          "metadata": {}
        },
        {
          "output_type": "display_data",
          "data": {
            "text/plain": "┏━━━━━━━━━━━━━━━━━━━━━━━━━━━━━━━━━┳━━━━━━━━━━━━━━━━━━━━━━━━┳━━━━━━━━━━━━━━━┓\n┃\u001b[1m \u001b[0m\u001b[1mLayer (type)                   \u001b[0m\u001b[1m \u001b[0m┃\u001b[1m \u001b[0m\u001b[1mOutput Shape          \u001b[0m\u001b[1m \u001b[0m┃\u001b[1m \u001b[0m\u001b[1m      Param #\u001b[0m\u001b[1m \u001b[0m┃\n┡━━━━━━━━━━━━━━━━━━━━━━━━━━━━━━━━━╇━━━━━━━━━━━━━━━━━━━━━━━━╇━━━━━━━━━━━━━━━┩\n│ dense_30 (\u001b[38;5;33mDense\u001b[0m)                │ (\u001b[38;5;45mNone\u001b[0m, \u001b[38;5;34m6\u001b[0m)              │            \u001b[38;5;34m42\u001b[0m │\n├─────────────────────────────────┼────────────────────────┼───────────────┤\n│ dense_31 (\u001b[38;5;33mDense\u001b[0m)                │ (\u001b[38;5;45mNone\u001b[0m, \u001b[38;5;34m6\u001b[0m)              │            \u001b[38;5;34m42\u001b[0m │\n├─────────────────────────────────┼────────────────────────┼───────────────┤\n│ dense_32 (\u001b[38;5;33mDense\u001b[0m)                │ (\u001b[38;5;45mNone\u001b[0m, \u001b[38;5;34m1\u001b[0m)              │             \u001b[38;5;34m7\u001b[0m │\n└─────────────────────────────────┴────────────────────────┴───────────────┘\n",
            "text/html": "<pre style=\"white-space:pre;overflow-x:auto;line-height:normal;font-family:Menlo,'DejaVu Sans Mono',consolas,'Courier New',monospace\">┏━━━━━━━━━━━━━━━━━━━━━━━━━━━━━━━━━┳━━━━━━━━━━━━━━━━━━━━━━━━┳━━━━━━━━━━━━━━━┓\n┃<span style=\"font-weight: bold\"> Layer (type)                    </span>┃<span style=\"font-weight: bold\"> Output Shape           </span>┃<span style=\"font-weight: bold\">       Param # </span>┃\n┡━━━━━━━━━━━━━━━━━━━━━━━━━━━━━━━━━╇━━━━━━━━━━━━━━━━━━━━━━━━╇━━━━━━━━━━━━━━━┩\n│ dense_30 (<span style=\"color: #0087ff; text-decoration-color: #0087ff\">Dense</span>)                │ (<span style=\"color: #00d7ff; text-decoration-color: #00d7ff\">None</span>, <span style=\"color: #00af00; text-decoration-color: #00af00\">6</span>)              │            <span style=\"color: #00af00; text-decoration-color: #00af00\">42</span> │\n├─────────────────────────────────┼────────────────────────┼───────────────┤\n│ dense_31 (<span style=\"color: #0087ff; text-decoration-color: #0087ff\">Dense</span>)                │ (<span style=\"color: #00d7ff; text-decoration-color: #00d7ff\">None</span>, <span style=\"color: #00af00; text-decoration-color: #00af00\">6</span>)              │            <span style=\"color: #00af00; text-decoration-color: #00af00\">42</span> │\n├─────────────────────────────────┼────────────────────────┼───────────────┤\n│ dense_32 (<span style=\"color: #0087ff; text-decoration-color: #0087ff\">Dense</span>)                │ (<span style=\"color: #00d7ff; text-decoration-color: #00d7ff\">None</span>, <span style=\"color: #00af00; text-decoration-color: #00af00\">1</span>)              │             <span style=\"color: #00af00; text-decoration-color: #00af00\">7</span> │\n└─────────────────────────────────┴────────────────────────┴───────────────┘\n</pre>\n"
          },
          "metadata": {}
        },
        {
          "output_type": "display_data",
          "data": {
            "text/plain": "\u001b[1m Total params: \u001b[0m\u001b[38;5;34m91\u001b[0m (364.00 B)\n",
            "text/html": "<pre style=\"white-space:pre;overflow-x:auto;line-height:normal;font-family:Menlo,'DejaVu Sans Mono',consolas,'Courier New',monospace\"><span style=\"font-weight: bold\"> Total params: </span><span style=\"color: #00af00; text-decoration-color: #00af00\">91</span> (364.00 B)\n</pre>\n"
          },
          "metadata": {}
        },
        {
          "output_type": "display_data",
          "data": {
            "text/plain": "\u001b[1m Trainable params: \u001b[0m\u001b[38;5;34m91\u001b[0m (364.00 B)\n",
            "text/html": "<pre style=\"white-space:pre;overflow-x:auto;line-height:normal;font-family:Menlo,'DejaVu Sans Mono',consolas,'Courier New',monospace\"><span style=\"font-weight: bold\"> Trainable params: </span><span style=\"color: #00af00; text-decoration-color: #00af00\">91</span> (364.00 B)\n</pre>\n"
          },
          "metadata": {}
        },
        {
          "output_type": "display_data",
          "data": {
            "text/plain": "\u001b[1m Non-trainable params: \u001b[0m\u001b[38;5;34m0\u001b[0m (0.00 B)\n",
            "text/html": "<pre style=\"white-space:pre;overflow-x:auto;line-height:normal;font-family:Menlo,'DejaVu Sans Mono',consolas,'Courier New',monospace\"><span style=\"font-weight: bold\"> Non-trainable params: </span><span style=\"color: #00af00; text-decoration-color: #00af00\">0</span> (0.00 B)\n</pre>\n"
          },
          "metadata": {}
        },
        {
          "output_type": "display_data",
          "data": {
            "text/plain": "\u001b[1mModel: \"sequential_11\"\u001b[0m\n",
            "text/html": "<pre style=\"white-space:pre;overflow-x:auto;line-height:normal;font-family:Menlo,'DejaVu Sans Mono',consolas,'Courier New',monospace\"><span style=\"font-weight: bold\">Model: \"sequential_11\"</span>\n</pre>\n"
          },
          "metadata": {}
        },
        {
          "output_type": "display_data",
          "data": {
            "text/plain": "┏━━━━━━━━━━━━━━━━━━━━━━━━━━━━━━━━━┳━━━━━━━━━━━━━━━━━━━━━━━━┳━━━━━━━━━━━━━━━┓\n┃\u001b[1m \u001b[0m\u001b[1mLayer (type)                   \u001b[0m\u001b[1m \u001b[0m┃\u001b[1m \u001b[0m\u001b[1mOutput Shape          \u001b[0m\u001b[1m \u001b[0m┃\u001b[1m \u001b[0m\u001b[1m      Param #\u001b[0m\u001b[1m \u001b[0m┃\n┡━━━━━━━━━━━━━━━━━━━━━━━━━━━━━━━━━╇━━━━━━━━━━━━━━━━━━━━━━━━╇━━━━━━━━━━━━━━━┩\n│ dense_33 (\u001b[38;5;33mDense\u001b[0m)                │ (\u001b[38;5;45mNone\u001b[0m, \u001b[38;5;34m6\u001b[0m)              │            \u001b[38;5;34m42\u001b[0m │\n├─────────────────────────────────┼────────────────────────┼───────────────┤\n│ dense_34 (\u001b[38;5;33mDense\u001b[0m)                │ (\u001b[38;5;45mNone\u001b[0m, \u001b[38;5;34m3\u001b[0m)              │            \u001b[38;5;34m21\u001b[0m │\n├─────────────────────────────────┼────────────────────────┼───────────────┤\n│ dense_35 (\u001b[38;5;33mDense\u001b[0m)                │ (\u001b[38;5;45mNone\u001b[0m, \u001b[38;5;34m1\u001b[0m)              │             \u001b[38;5;34m4\u001b[0m │\n└─────────────────────────────────┴────────────────────────┴───────────────┘\n",
            "text/html": "<pre style=\"white-space:pre;overflow-x:auto;line-height:normal;font-family:Menlo,'DejaVu Sans Mono',consolas,'Courier New',monospace\">┏━━━━━━━━━━━━━━━━━━━━━━━━━━━━━━━━━┳━━━━━━━━━━━━━━━━━━━━━━━━┳━━━━━━━━━━━━━━━┓\n┃<span style=\"font-weight: bold\"> Layer (type)                    </span>┃<span style=\"font-weight: bold\"> Output Shape           </span>┃<span style=\"font-weight: bold\">       Param # </span>┃\n┡━━━━━━━━━━━━━━━━━━━━━━━━━━━━━━━━━╇━━━━━━━━━━━━━━━━━━━━━━━━╇━━━━━━━━━━━━━━━┩\n│ dense_33 (<span style=\"color: #0087ff; text-decoration-color: #0087ff\">Dense</span>)                │ (<span style=\"color: #00d7ff; text-decoration-color: #00d7ff\">None</span>, <span style=\"color: #00af00; text-decoration-color: #00af00\">6</span>)              │            <span style=\"color: #00af00; text-decoration-color: #00af00\">42</span> │\n├─────────────────────────────────┼────────────────────────┼───────────────┤\n│ dense_34 (<span style=\"color: #0087ff; text-decoration-color: #0087ff\">Dense</span>)                │ (<span style=\"color: #00d7ff; text-decoration-color: #00d7ff\">None</span>, <span style=\"color: #00af00; text-decoration-color: #00af00\">3</span>)              │            <span style=\"color: #00af00; text-decoration-color: #00af00\">21</span> │\n├─────────────────────────────────┼────────────────────────┼───────────────┤\n│ dense_35 (<span style=\"color: #0087ff; text-decoration-color: #0087ff\">Dense</span>)                │ (<span style=\"color: #00d7ff; text-decoration-color: #00d7ff\">None</span>, <span style=\"color: #00af00; text-decoration-color: #00af00\">1</span>)              │             <span style=\"color: #00af00; text-decoration-color: #00af00\">4</span> │\n└─────────────────────────────────┴────────────────────────┴───────────────┘\n</pre>\n"
          },
          "metadata": {}
        },
        {
          "output_type": "display_data",
          "data": {
            "text/plain": "\u001b[1m Total params: \u001b[0m\u001b[38;5;34m67\u001b[0m (268.00 B)\n",
            "text/html": "<pre style=\"white-space:pre;overflow-x:auto;line-height:normal;font-family:Menlo,'DejaVu Sans Mono',consolas,'Courier New',monospace\"><span style=\"font-weight: bold\"> Total params: </span><span style=\"color: #00af00; text-decoration-color: #00af00\">67</span> (268.00 B)\n</pre>\n"
          },
          "metadata": {}
        },
        {
          "output_type": "display_data",
          "data": {
            "text/plain": "\u001b[1m Trainable params: \u001b[0m\u001b[38;5;34m67\u001b[0m (268.00 B)\n",
            "text/html": "<pre style=\"white-space:pre;overflow-x:auto;line-height:normal;font-family:Menlo,'DejaVu Sans Mono',consolas,'Courier New',monospace\"><span style=\"font-weight: bold\"> Trainable params: </span><span style=\"color: #00af00; text-decoration-color: #00af00\">67</span> (268.00 B)\n</pre>\n"
          },
          "metadata": {}
        },
        {
          "output_type": "display_data",
          "data": {
            "text/plain": "\u001b[1m Non-trainable params: \u001b[0m\u001b[38;5;34m0\u001b[0m (0.00 B)\n",
            "text/html": "<pre style=\"white-space:pre;overflow-x:auto;line-height:normal;font-family:Menlo,'DejaVu Sans Mono',consolas,'Courier New',monospace\"><span style=\"font-weight: bold\"> Non-trainable params: </span><span style=\"color: #00af00; text-decoration-color: #00af00\">0</span> (0.00 B)\n</pre>\n"
          },
          "metadata": {}
        },
        {
          "output_type": "display_data",
          "data": {
            "text/plain": "\u001b[1mModel: \"sequential_12\"\u001b[0m\n",
            "text/html": "<pre style=\"white-space:pre;overflow-x:auto;line-height:normal;font-family:Menlo,'DejaVu Sans Mono',consolas,'Courier New',monospace\"><span style=\"font-weight: bold\">Model: \"sequential_12\"</span>\n</pre>\n"
          },
          "metadata": {}
        },
        {
          "output_type": "display_data",
          "data": {
            "text/plain": "┏━━━━━━━━━━━━━━━━━━━━━━━━━━━━━━━━━┳━━━━━━━━━━━━━━━━━━━━━━━━┳━━━━━━━━━━━━━━━┓\n┃\u001b[1m \u001b[0m\u001b[1mLayer (type)                   \u001b[0m\u001b[1m \u001b[0m┃\u001b[1m \u001b[0m\u001b[1mOutput Shape          \u001b[0m\u001b[1m \u001b[0m┃\u001b[1m \u001b[0m\u001b[1m      Param #\u001b[0m\u001b[1m \u001b[0m┃\n┡━━━━━━━━━━━━━━━━━━━━━━━━━━━━━━━━━╇━━━━━━━━━━━━━━━━━━━━━━━━╇━━━━━━━━━━━━━━━┩\n│ dense_36 (\u001b[38;5;33mDense\u001b[0m)                │ (\u001b[38;5;45mNone\u001b[0m, \u001b[38;5;34m8\u001b[0m)              │            \u001b[38;5;34m56\u001b[0m │\n├─────────────────────────────────┼────────────────────────┼───────────────┤\n│ dense_37 (\u001b[38;5;33mDense\u001b[0m)                │ (\u001b[38;5;45mNone\u001b[0m, \u001b[38;5;34m4\u001b[0m)              │            \u001b[38;5;34m36\u001b[0m │\n├─────────────────────────────────┼────────────────────────┼───────────────┤\n│ dense_38 (\u001b[38;5;33mDense\u001b[0m)                │ (\u001b[38;5;45mNone\u001b[0m, \u001b[38;5;34m1\u001b[0m)              │             \u001b[38;5;34m5\u001b[0m │\n└─────────────────────────────────┴────────────────────────┴───────────────┘\n",
            "text/html": "<pre style=\"white-space:pre;overflow-x:auto;line-height:normal;font-family:Menlo,'DejaVu Sans Mono',consolas,'Courier New',monospace\">┏━━━━━━━━━━━━━━━━━━━━━━━━━━━━━━━━━┳━━━━━━━━━━━━━━━━━━━━━━━━┳━━━━━━━━━━━━━━━┓\n┃<span style=\"font-weight: bold\"> Layer (type)                    </span>┃<span style=\"font-weight: bold\"> Output Shape           </span>┃<span style=\"font-weight: bold\">       Param # </span>┃\n┡━━━━━━━━━━━━━━━━━━━━━━━━━━━━━━━━━╇━━━━━━━━━━━━━━━━━━━━━━━━╇━━━━━━━━━━━━━━━┩\n│ dense_36 (<span style=\"color: #0087ff; text-decoration-color: #0087ff\">Dense</span>)                │ (<span style=\"color: #00d7ff; text-decoration-color: #00d7ff\">None</span>, <span style=\"color: #00af00; text-decoration-color: #00af00\">8</span>)              │            <span style=\"color: #00af00; text-decoration-color: #00af00\">56</span> │\n├─────────────────────────────────┼────────────────────────┼───────────────┤\n│ dense_37 (<span style=\"color: #0087ff; text-decoration-color: #0087ff\">Dense</span>)                │ (<span style=\"color: #00d7ff; text-decoration-color: #00d7ff\">None</span>, <span style=\"color: #00af00; text-decoration-color: #00af00\">4</span>)              │            <span style=\"color: #00af00; text-decoration-color: #00af00\">36</span> │\n├─────────────────────────────────┼────────────────────────┼───────────────┤\n│ dense_38 (<span style=\"color: #0087ff; text-decoration-color: #0087ff\">Dense</span>)                │ (<span style=\"color: #00d7ff; text-decoration-color: #00d7ff\">None</span>, <span style=\"color: #00af00; text-decoration-color: #00af00\">1</span>)              │             <span style=\"color: #00af00; text-decoration-color: #00af00\">5</span> │\n└─────────────────────────────────┴────────────────────────┴───────────────┘\n</pre>\n"
          },
          "metadata": {}
        },
        {
          "output_type": "display_data",
          "data": {
            "text/plain": "\u001b[1m Total params: \u001b[0m\u001b[38;5;34m97\u001b[0m (388.00 B)\n",
            "text/html": "<pre style=\"white-space:pre;overflow-x:auto;line-height:normal;font-family:Menlo,'DejaVu Sans Mono',consolas,'Courier New',monospace\"><span style=\"font-weight: bold\"> Total params: </span><span style=\"color: #00af00; text-decoration-color: #00af00\">97</span> (388.00 B)\n</pre>\n"
          },
          "metadata": {}
        },
        {
          "output_type": "display_data",
          "data": {
            "text/plain": "\u001b[1m Trainable params: \u001b[0m\u001b[38;5;34m97\u001b[0m (388.00 B)\n",
            "text/html": "<pre style=\"white-space:pre;overflow-x:auto;line-height:normal;font-family:Menlo,'DejaVu Sans Mono',consolas,'Courier New',monospace\"><span style=\"font-weight: bold\"> Trainable params: </span><span style=\"color: #00af00; text-decoration-color: #00af00\">97</span> (388.00 B)\n</pre>\n"
          },
          "metadata": {}
        },
        {
          "output_type": "display_data",
          "data": {
            "text/plain": "\u001b[1m Non-trainable params: \u001b[0m\u001b[38;5;34m0\u001b[0m (0.00 B)\n",
            "text/html": "<pre style=\"white-space:pre;overflow-x:auto;line-height:normal;font-family:Menlo,'DejaVu Sans Mono',consolas,'Courier New',monospace\"><span style=\"font-weight: bold\"> Non-trainable params: </span><span style=\"color: #00af00; text-decoration-color: #00af00\">0</span> (0.00 B)\n</pre>\n"
          },
          "metadata": {}
        },
        {
          "output_type": "display_data",
          "data": {
            "text/plain": "\u001b[1mModel: \"sequential_13\"\u001b[0m\n",
            "text/html": "<pre style=\"white-space:pre;overflow-x:auto;line-height:normal;font-family:Menlo,'DejaVu Sans Mono',consolas,'Courier New',monospace\"><span style=\"font-weight: bold\">Model: \"sequential_13\"</span>\n</pre>\n"
          },
          "metadata": {}
        },
        {
          "output_type": "display_data",
          "data": {
            "text/plain": "┏━━━━━━━━━━━━━━━━━━━━━━━━━━━━━━━━━┳━━━━━━━━━━━━━━━━━━━━━━━━┳━━━━━━━━━━━━━━━┓\n┃\u001b[1m \u001b[0m\u001b[1mLayer (type)                   \u001b[0m\u001b[1m \u001b[0m┃\u001b[1m \u001b[0m\u001b[1mOutput Shape          \u001b[0m\u001b[1m \u001b[0m┃\u001b[1m \u001b[0m\u001b[1m      Param #\u001b[0m\u001b[1m \u001b[0m┃\n┡━━━━━━━━━━━━━━━━━━━━━━━━━━━━━━━━━╇━━━━━━━━━━━━━━━━━━━━━━━━╇━━━━━━━━━━━━━━━┩\n│ dense_39 (\u001b[38;5;33mDense\u001b[0m)                │ (\u001b[38;5;45mNone\u001b[0m, \u001b[38;5;34m5\u001b[0m)              │            \u001b[38;5;34m35\u001b[0m │\n├─────────────────────────────────┼────────────────────────┼───────────────┤\n│ dense_40 (\u001b[38;5;33mDense\u001b[0m)                │ (\u001b[38;5;45mNone\u001b[0m, \u001b[38;5;34m7\u001b[0m)              │            \u001b[38;5;34m42\u001b[0m │\n├─────────────────────────────────┼────────────────────────┼───────────────┤\n│ dense_41 (\u001b[38;5;33mDense\u001b[0m)                │ (\u001b[38;5;45mNone\u001b[0m, \u001b[38;5;34m1\u001b[0m)              │             \u001b[38;5;34m8\u001b[0m │\n└─────────────────────────────────┴────────────────────────┴───────────────┘\n",
            "text/html": "<pre style=\"white-space:pre;overflow-x:auto;line-height:normal;font-family:Menlo,'DejaVu Sans Mono',consolas,'Courier New',monospace\">┏━━━━━━━━━━━━━━━━━━━━━━━━━━━━━━━━━┳━━━━━━━━━━━━━━━━━━━━━━━━┳━━━━━━━━━━━━━━━┓\n┃<span style=\"font-weight: bold\"> Layer (type)                    </span>┃<span style=\"font-weight: bold\"> Output Shape           </span>┃<span style=\"font-weight: bold\">       Param # </span>┃\n┡━━━━━━━━━━━━━━━━━━━━━━━━━━━━━━━━━╇━━━━━━━━━━━━━━━━━━━━━━━━╇━━━━━━━━━━━━━━━┩\n│ dense_39 (<span style=\"color: #0087ff; text-decoration-color: #0087ff\">Dense</span>)                │ (<span style=\"color: #00d7ff; text-decoration-color: #00d7ff\">None</span>, <span style=\"color: #00af00; text-decoration-color: #00af00\">5</span>)              │            <span style=\"color: #00af00; text-decoration-color: #00af00\">35</span> │\n├─────────────────────────────────┼────────────────────────┼───────────────┤\n│ dense_40 (<span style=\"color: #0087ff; text-decoration-color: #0087ff\">Dense</span>)                │ (<span style=\"color: #00d7ff; text-decoration-color: #00d7ff\">None</span>, <span style=\"color: #00af00; text-decoration-color: #00af00\">7</span>)              │            <span style=\"color: #00af00; text-decoration-color: #00af00\">42</span> │\n├─────────────────────────────────┼────────────────────────┼───────────────┤\n│ dense_41 (<span style=\"color: #0087ff; text-decoration-color: #0087ff\">Dense</span>)                │ (<span style=\"color: #00d7ff; text-decoration-color: #00d7ff\">None</span>, <span style=\"color: #00af00; text-decoration-color: #00af00\">1</span>)              │             <span style=\"color: #00af00; text-decoration-color: #00af00\">8</span> │\n└─────────────────────────────────┴────────────────────────┴───────────────┘\n</pre>\n"
          },
          "metadata": {}
        },
        {
          "output_type": "display_data",
          "data": {
            "text/plain": "\u001b[1m Total params: \u001b[0m\u001b[38;5;34m85\u001b[0m (340.00 B)\n",
            "text/html": "<pre style=\"white-space:pre;overflow-x:auto;line-height:normal;font-family:Menlo,'DejaVu Sans Mono',consolas,'Courier New',monospace\"><span style=\"font-weight: bold\"> Total params: </span><span style=\"color: #00af00; text-decoration-color: #00af00\">85</span> (340.00 B)\n</pre>\n"
          },
          "metadata": {}
        },
        {
          "output_type": "display_data",
          "data": {
            "text/plain": "\u001b[1m Trainable params: \u001b[0m\u001b[38;5;34m85\u001b[0m (340.00 B)\n",
            "text/html": "<pre style=\"white-space:pre;overflow-x:auto;line-height:normal;font-family:Menlo,'DejaVu Sans Mono',consolas,'Courier New',monospace\"><span style=\"font-weight: bold\"> Trainable params: </span><span style=\"color: #00af00; text-decoration-color: #00af00\">85</span> (340.00 B)\n</pre>\n"
          },
          "metadata": {}
        },
        {
          "output_type": "display_data",
          "data": {
            "text/plain": "\u001b[1m Non-trainable params: \u001b[0m\u001b[38;5;34m0\u001b[0m (0.00 B)\n",
            "text/html": "<pre style=\"white-space:pre;overflow-x:auto;line-height:normal;font-family:Menlo,'DejaVu Sans Mono',consolas,'Courier New',monospace\"><span style=\"font-weight: bold\"> Non-trainable params: </span><span style=\"color: #00af00; text-decoration-color: #00af00\">0</span> (0.00 B)\n</pre>\n"
          },
          "metadata": {}
        },
        {
          "output_type": "display_data",
          "data": {
            "text/plain": "\u001b[1mModel: \"sequential_14\"\u001b[0m\n",
            "text/html": "<pre style=\"white-space:pre;overflow-x:auto;line-height:normal;font-family:Menlo,'DejaVu Sans Mono',consolas,'Courier New',monospace\"><span style=\"font-weight: bold\">Model: \"sequential_14\"</span>\n</pre>\n"
          },
          "metadata": {}
        },
        {
          "output_type": "display_data",
          "data": {
            "text/plain": "┏━━━━━━━━━━━━━━━━━━━━━━━━━━━━━━━━━┳━━━━━━━━━━━━━━━━━━━━━━━━┳━━━━━━━━━━━━━━━┓\n┃\u001b[1m \u001b[0m\u001b[1mLayer (type)                   \u001b[0m\u001b[1m \u001b[0m┃\u001b[1m \u001b[0m\u001b[1mOutput Shape          \u001b[0m\u001b[1m \u001b[0m┃\u001b[1m \u001b[0m\u001b[1m      Param #\u001b[0m\u001b[1m \u001b[0m┃\n┡━━━━━━━━━━━━━━━━━━━━━━━━━━━━━━━━━╇━━━━━━━━━━━━━━━━━━━━━━━━╇━━━━━━━━━━━━━━━┩\n│ dense_42 (\u001b[38;5;33mDense\u001b[0m)                │ (\u001b[38;5;45mNone\u001b[0m, \u001b[38;5;34m3\u001b[0m)              │            \u001b[38;5;34m21\u001b[0m │\n├─────────────────────────────────┼────────────────────────┼───────────────┤\n│ dense_43 (\u001b[38;5;33mDense\u001b[0m)                │ (\u001b[38;5;45mNone\u001b[0m, \u001b[38;5;34m3\u001b[0m)              │            \u001b[38;5;34m12\u001b[0m │\n├─────────────────────────────────┼────────────────────────┼───────────────┤\n│ dense_44 (\u001b[38;5;33mDense\u001b[0m)                │ (\u001b[38;5;45mNone\u001b[0m, \u001b[38;5;34m1\u001b[0m)              │             \u001b[38;5;34m4\u001b[0m │\n└─────────────────────────────────┴────────────────────────┴───────────────┘\n",
            "text/html": "<pre style=\"white-space:pre;overflow-x:auto;line-height:normal;font-family:Menlo,'DejaVu Sans Mono',consolas,'Courier New',monospace\">┏━━━━━━━━━━━━━━━━━━━━━━━━━━━━━━━━━┳━━━━━━━━━━━━━━━━━━━━━━━━┳━━━━━━━━━━━━━━━┓\n┃<span style=\"font-weight: bold\"> Layer (type)                    </span>┃<span style=\"font-weight: bold\"> Output Shape           </span>┃<span style=\"font-weight: bold\">       Param # </span>┃\n┡━━━━━━━━━━━━━━━━━━━━━━━━━━━━━━━━━╇━━━━━━━━━━━━━━━━━━━━━━━━╇━━━━━━━━━━━━━━━┩\n│ dense_42 (<span style=\"color: #0087ff; text-decoration-color: #0087ff\">Dense</span>)                │ (<span style=\"color: #00d7ff; text-decoration-color: #00d7ff\">None</span>, <span style=\"color: #00af00; text-decoration-color: #00af00\">3</span>)              │            <span style=\"color: #00af00; text-decoration-color: #00af00\">21</span> │\n├─────────────────────────────────┼────────────────────────┼───────────────┤\n│ dense_43 (<span style=\"color: #0087ff; text-decoration-color: #0087ff\">Dense</span>)                │ (<span style=\"color: #00d7ff; text-decoration-color: #00d7ff\">None</span>, <span style=\"color: #00af00; text-decoration-color: #00af00\">3</span>)              │            <span style=\"color: #00af00; text-decoration-color: #00af00\">12</span> │\n├─────────────────────────────────┼────────────────────────┼───────────────┤\n│ dense_44 (<span style=\"color: #0087ff; text-decoration-color: #0087ff\">Dense</span>)                │ (<span style=\"color: #00d7ff; text-decoration-color: #00d7ff\">None</span>, <span style=\"color: #00af00; text-decoration-color: #00af00\">1</span>)              │             <span style=\"color: #00af00; text-decoration-color: #00af00\">4</span> │\n└─────────────────────────────────┴────────────────────────┴───────────────┘\n</pre>\n"
          },
          "metadata": {}
        },
        {
          "output_type": "display_data",
          "data": {
            "text/plain": "\u001b[1m Total params: \u001b[0m\u001b[38;5;34m37\u001b[0m (148.00 B)\n",
            "text/html": "<pre style=\"white-space:pre;overflow-x:auto;line-height:normal;font-family:Menlo,'DejaVu Sans Mono',consolas,'Courier New',monospace\"><span style=\"font-weight: bold\"> Total params: </span><span style=\"color: #00af00; text-decoration-color: #00af00\">37</span> (148.00 B)\n</pre>\n"
          },
          "metadata": {}
        },
        {
          "output_type": "display_data",
          "data": {
            "text/plain": "\u001b[1m Trainable params: \u001b[0m\u001b[38;5;34m37\u001b[0m (148.00 B)\n",
            "text/html": "<pre style=\"white-space:pre;overflow-x:auto;line-height:normal;font-family:Menlo,'DejaVu Sans Mono',consolas,'Courier New',monospace\"><span style=\"font-weight: bold\"> Trainable params: </span><span style=\"color: #00af00; text-decoration-color: #00af00\">37</span> (148.00 B)\n</pre>\n"
          },
          "metadata": {}
        },
        {
          "output_type": "display_data",
          "data": {
            "text/plain": "\u001b[1m Non-trainable params: \u001b[0m\u001b[38;5;34m0\u001b[0m (0.00 B)\n",
            "text/html": "<pre style=\"white-space:pre;overflow-x:auto;line-height:normal;font-family:Menlo,'DejaVu Sans Mono',consolas,'Courier New',monospace\"><span style=\"font-weight: bold\"> Non-trainable params: </span><span style=\"color: #00af00; text-decoration-color: #00af00\">0</span> (0.00 B)\n</pre>\n"
          },
          "metadata": {}
        },
        {
          "output_type": "display_data",
          "data": {
            "text/plain": "\u001b[1mModel: \"sequential_15\"\u001b[0m\n",
            "text/html": "<pre style=\"white-space:pre;overflow-x:auto;line-height:normal;font-family:Menlo,'DejaVu Sans Mono',consolas,'Courier New',monospace\"><span style=\"font-weight: bold\">Model: \"sequential_15\"</span>\n</pre>\n"
          },
          "metadata": {}
        },
        {
          "output_type": "display_data",
          "data": {
            "text/plain": "┏━━━━━━━━━━━━━━━━━━━━━━━━━━━━━━━━━┳━━━━━━━━━━━━━━━━━━━━━━━━┳━━━━━━━━━━━━━━━┓\n┃\u001b[1m \u001b[0m\u001b[1mLayer (type)                   \u001b[0m\u001b[1m \u001b[0m┃\u001b[1m \u001b[0m\u001b[1mOutput Shape          \u001b[0m\u001b[1m \u001b[0m┃\u001b[1m \u001b[0m\u001b[1m      Param #\u001b[0m\u001b[1m \u001b[0m┃\n┡━━━━━━━━━━━━━━━━━━━━━━━━━━━━━━━━━╇━━━━━━━━━━━━━━━━━━━━━━━━╇━━━━━━━━━━━━━━━┩\n│ dense_45 (\u001b[38;5;33mDense\u001b[0m)                │ (\u001b[38;5;45mNone\u001b[0m, \u001b[38;5;34m4\u001b[0m)              │            \u001b[38;5;34m28\u001b[0m │\n├─────────────────────────────────┼────────────────────────┼───────────────┤\n│ dense_46 (\u001b[38;5;33mDense\u001b[0m)                │ (\u001b[38;5;45mNone\u001b[0m, \u001b[38;5;34m6\u001b[0m)              │            \u001b[38;5;34m30\u001b[0m │\n├─────────────────────────────────┼────────────────────────┼───────────────┤\n│ dense_47 (\u001b[38;5;33mDense\u001b[0m)                │ (\u001b[38;5;45mNone\u001b[0m, \u001b[38;5;34m1\u001b[0m)              │             \u001b[38;5;34m7\u001b[0m │\n└─────────────────────────────────┴────────────────────────┴───────────────┘\n",
            "text/html": "<pre style=\"white-space:pre;overflow-x:auto;line-height:normal;font-family:Menlo,'DejaVu Sans Mono',consolas,'Courier New',monospace\">┏━━━━━━━━━━━━━━━━━━━━━━━━━━━━━━━━━┳━━━━━━━━━━━━━━━━━━━━━━━━┳━━━━━━━━━━━━━━━┓\n┃<span style=\"font-weight: bold\"> Layer (type)                    </span>┃<span style=\"font-weight: bold\"> Output Shape           </span>┃<span style=\"font-weight: bold\">       Param # </span>┃\n┡━━━━━━━━━━━━━━━━━━━━━━━━━━━━━━━━━╇━━━━━━━━━━━━━━━━━━━━━━━━╇━━━━━━━━━━━━━━━┩\n│ dense_45 (<span style=\"color: #0087ff; text-decoration-color: #0087ff\">Dense</span>)                │ (<span style=\"color: #00d7ff; text-decoration-color: #00d7ff\">None</span>, <span style=\"color: #00af00; text-decoration-color: #00af00\">4</span>)              │            <span style=\"color: #00af00; text-decoration-color: #00af00\">28</span> │\n├─────────────────────────────────┼────────────────────────┼───────────────┤\n│ dense_46 (<span style=\"color: #0087ff; text-decoration-color: #0087ff\">Dense</span>)                │ (<span style=\"color: #00d7ff; text-decoration-color: #00d7ff\">None</span>, <span style=\"color: #00af00; text-decoration-color: #00af00\">6</span>)              │            <span style=\"color: #00af00; text-decoration-color: #00af00\">30</span> │\n├─────────────────────────────────┼────────────────────────┼───────────────┤\n│ dense_47 (<span style=\"color: #0087ff; text-decoration-color: #0087ff\">Dense</span>)                │ (<span style=\"color: #00d7ff; text-decoration-color: #00d7ff\">None</span>, <span style=\"color: #00af00; text-decoration-color: #00af00\">1</span>)              │             <span style=\"color: #00af00; text-decoration-color: #00af00\">7</span> │\n└─────────────────────────────────┴────────────────────────┴───────────────┘\n</pre>\n"
          },
          "metadata": {}
        },
        {
          "output_type": "display_data",
          "data": {
            "text/plain": "\u001b[1m Total params: \u001b[0m\u001b[38;5;34m65\u001b[0m (260.00 B)\n",
            "text/html": "<pre style=\"white-space:pre;overflow-x:auto;line-height:normal;font-family:Menlo,'DejaVu Sans Mono',consolas,'Courier New',monospace\"><span style=\"font-weight: bold\"> Total params: </span><span style=\"color: #00af00; text-decoration-color: #00af00\">65</span> (260.00 B)\n</pre>\n"
          },
          "metadata": {}
        },
        {
          "output_type": "display_data",
          "data": {
            "text/plain": "\u001b[1m Trainable params: \u001b[0m\u001b[38;5;34m65\u001b[0m (260.00 B)\n",
            "text/html": "<pre style=\"white-space:pre;overflow-x:auto;line-height:normal;font-family:Menlo,'DejaVu Sans Mono',consolas,'Courier New',monospace\"><span style=\"font-weight: bold\"> Trainable params: </span><span style=\"color: #00af00; text-decoration-color: #00af00\">65</span> (260.00 B)\n</pre>\n"
          },
          "metadata": {}
        },
        {
          "output_type": "display_data",
          "data": {
            "text/plain": "\u001b[1m Non-trainable params: \u001b[0m\u001b[38;5;34m0\u001b[0m (0.00 B)\n",
            "text/html": "<pre style=\"white-space:pre;overflow-x:auto;line-height:normal;font-family:Menlo,'DejaVu Sans Mono',consolas,'Courier New',monospace\"><span style=\"font-weight: bold\"> Non-trainable params: </span><span style=\"color: #00af00; text-decoration-color: #00af00\">0</span> (0.00 B)\n</pre>\n"
          },
          "metadata": {}
        }
      ]
    },
    {
      "cell_type": "code",
      "source": [
        "adam1 = Adam(learning_rate= 0.01)\n",
        "adam2 = Adam(learning_rate= 0.01)\n",
        "adam3 = Adam(learning_rate= 0.01)\n",
        "adam4 = Adam(learning_rate= 0.01)\n",
        "adam5 = Adam(learning_rate= 0.01)\n",
        "adam6 = Adam(learning_rate= 0.01)\n",
        "model1.compile(loss='mean_squared_error', optimizer = adam1, metrics=['mse'])\n",
        "model2.compile(loss='mean_squared_error', optimizer = adam2, metrics=['mse'])\n",
        "model3.compile(loss='mean_squared_error', optimizer = adam3, metrics=['mse'])\n",
        "model4.compile(loss='mean_squared_error', optimizer = adam4, metrics=['mse'])\n",
        "model5.compile(loss='mean_squared_error', optimizer = adam5, metrics=['mse'])\n",
        "model6.compile(loss='mean_squared_error', optimizer = adam6, metrics=['mse'])"
      ],
      "metadata": {
        "execution": {
          "iopub.status.busy": "2024-04-21T20:53:06.106636Z",
          "iopub.execute_input": "2024-04-21T20:53:06.107055Z",
          "iopub.status.idle": "2024-04-21T20:53:06.133533Z",
          "shell.execute_reply.started": "2024-04-21T20:53:06.107022Z",
          "shell.execute_reply": "2024-04-21T20:53:06.132569Z"
        },
        "trusted": true,
        "id": "RamwPNjzWs7y"
      },
      "execution_count": null,
      "outputs": []
    },
    {
      "cell_type": "code",
      "source": [
        "start_time = time.time()\n",
        "history1 = model1.fit(X_train, y_train, epochs=250, validation_split=0.4, verbose=0)\n",
        "train_time = time.time() - start_time\n",
        "print(\"Training Time:\", train_time, \"seconds\")"
      ],
      "metadata": {
        "execution": {
          "iopub.status.busy": "2024-04-21T20:53:08.105723Z",
          "iopub.execute_input": "2024-04-21T20:53:08.10694Z",
          "iopub.status.idle": "2024-04-21T20:53:22.983319Z",
          "shell.execute_reply.started": "2024-04-21T20:53:08.106901Z",
          "shell.execute_reply": "2024-04-21T20:53:22.982031Z"
        },
        "trusted": true,
        "id": "JB7oCuKvWs7y",
        "outputId": "ed5699dc-a948-4e75-f5f7-18ff7aaf1452"
      },
      "execution_count": null,
      "outputs": [
        {
          "name": "stdout",
          "text": "Training Time: 14.870463609695435 seconds\n",
          "output_type": "stream"
        }
      ]
    },
    {
      "cell_type": "code",
      "source": [
        "history2 = model2.fit(X_train, y_train, epochs=250, validation_split=0.4, verbose=0)"
      ],
      "metadata": {
        "execution": {
          "iopub.status.busy": "2024-04-21T20:53:22.985593Z",
          "iopub.execute_input": "2024-04-21T20:53:22.985922Z",
          "iopub.status.idle": "2024-04-21T20:53:38.276129Z",
          "shell.execute_reply.started": "2024-04-21T20:53:22.985896Z",
          "shell.execute_reply": "2024-04-21T20:53:38.274697Z"
        },
        "trusted": true,
        "id": "g8IvDlPNWs7y"
      },
      "execution_count": null,
      "outputs": []
    },
    {
      "cell_type": "code",
      "source": [
        "history3 = model3.fit(X_train, y_train, epochs=250, validation_split=0.4, verbose=0)"
      ],
      "metadata": {
        "execution": {
          "iopub.status.busy": "2024-04-21T20:53:38.278381Z",
          "iopub.execute_input": "2024-04-21T20:53:38.278825Z",
          "iopub.status.idle": "2024-04-21T20:53:53.462005Z",
          "shell.execute_reply.started": "2024-04-21T20:53:38.278792Z",
          "shell.execute_reply": "2024-04-21T20:53:53.46073Z"
        },
        "trusted": true,
        "id": "ka3HeWbyWs7z"
      },
      "execution_count": null,
      "outputs": []
    },
    {
      "cell_type": "code",
      "source": [
        "history4 = model4.fit(X_train, y_train, epochs=250, validation_split=0.4, verbose=0)"
      ],
      "metadata": {
        "execution": {
          "iopub.status.busy": "2024-04-21T20:53:53.465189Z",
          "iopub.execute_input": "2024-04-21T20:53:53.465557Z",
          "iopub.status.idle": "2024-04-21T20:54:09.968898Z",
          "shell.execute_reply.started": "2024-04-21T20:53:53.465513Z",
          "shell.execute_reply": "2024-04-21T20:54:09.967436Z"
        },
        "trusted": true,
        "id": "6Q7YKD4-Ws7z"
      },
      "execution_count": null,
      "outputs": []
    },
    {
      "cell_type": "code",
      "source": [
        "history5 = model5.fit(X_train, y_train, epochs=250, validation_split=0.4, verbose=0)"
      ],
      "metadata": {
        "execution": {
          "iopub.status.busy": "2024-04-21T20:54:09.971821Z",
          "iopub.execute_input": "2024-04-21T20:54:09.97229Z",
          "iopub.status.idle": "2024-04-21T20:54:25.600453Z",
          "shell.execute_reply.started": "2024-04-21T20:54:09.972248Z",
          "shell.execute_reply": "2024-04-21T20:54:25.599101Z"
        },
        "trusted": true,
        "id": "4hnMwBtmWs7z"
      },
      "execution_count": null,
      "outputs": []
    },
    {
      "cell_type": "code",
      "source": [
        "history6 = model6.fit(X_train, y_train, epochs=250, validation_split=0.4, verbose=0)"
      ],
      "metadata": {
        "execution": {
          "iopub.status.busy": "2024-04-21T20:54:25.603113Z",
          "iopub.execute_input": "2024-04-21T20:54:25.603468Z",
          "iopub.status.idle": "2024-04-21T20:54:41.269157Z",
          "shell.execute_reply.started": "2024-04-21T20:54:25.603438Z",
          "shell.execute_reply": "2024-04-21T20:54:41.267639Z"
        },
        "trusted": true,
        "id": "7nEX-95gWs7z"
      },
      "execution_count": null,
      "outputs": []
    },
    {
      "cell_type": "code",
      "source": [
        "X_test"
      ],
      "metadata": {
        "execution": {
          "iopub.status.busy": "2024-04-21T20:54:52.38852Z",
          "iopub.execute_input": "2024-04-21T20:54:52.388947Z",
          "iopub.status.idle": "2024-04-21T20:54:52.406908Z",
          "shell.execute_reply.started": "2024-04-21T20:54:52.388914Z",
          "shell.execute_reply": "2024-04-21T20:54:52.40546Z"
        },
        "trusted": true,
        "id": "gBvB8-yEWs7z",
        "outputId": "be83195f-3e33-4cb7-b9c8-7ccaa9739e7a"
      },
      "execution_count": null,
      "outputs": [
        {
          "execution_count": 64,
          "output_type": "execute_result",
          "data": {
            "text/plain": "     L   W   s   d     h  epsr\n19  50  35  35  12  3.17  6.15\n16  50  35  35  18  3.17  2.33\n3   30  25  10  16  1.57  4.50\n13  40  30  30  20  2.50  6.15\n18  50  35  40  12  3.17  4.50\n15  50  35  30   6  3.17  2.33\n10  40  30  25   5  2.50  4.50\n4   30  25  10   4  1.57  6.15\n2   30  25  25  12  1.57  2.33",
            "text/html": "<div>\n<style scoped>\n    .dataframe tbody tr th:only-of-type {\n        vertical-align: middle;\n    }\n\n    .dataframe tbody tr th {\n        vertical-align: top;\n    }\n\n    .dataframe thead th {\n        text-align: right;\n    }\n</style>\n<table border=\"1\" class=\"dataframe\">\n  <thead>\n    <tr style=\"text-align: right;\">\n      <th></th>\n      <th>L</th>\n      <th>W</th>\n      <th>s</th>\n      <th>d</th>\n      <th>h</th>\n      <th>epsr</th>\n    </tr>\n  </thead>\n  <tbody>\n    <tr>\n      <th>19</th>\n      <td>50</td>\n      <td>35</td>\n      <td>35</td>\n      <td>12</td>\n      <td>3.17</td>\n      <td>6.15</td>\n    </tr>\n    <tr>\n      <th>16</th>\n      <td>50</td>\n      <td>35</td>\n      <td>35</td>\n      <td>18</td>\n      <td>3.17</td>\n      <td>2.33</td>\n    </tr>\n    <tr>\n      <th>3</th>\n      <td>30</td>\n      <td>25</td>\n      <td>10</td>\n      <td>16</td>\n      <td>1.57</td>\n      <td>4.50</td>\n    </tr>\n    <tr>\n      <th>13</th>\n      <td>40</td>\n      <td>30</td>\n      <td>30</td>\n      <td>20</td>\n      <td>2.50</td>\n      <td>6.15</td>\n    </tr>\n    <tr>\n      <th>18</th>\n      <td>50</td>\n      <td>35</td>\n      <td>40</td>\n      <td>12</td>\n      <td>3.17</td>\n      <td>4.50</td>\n    </tr>\n    <tr>\n      <th>15</th>\n      <td>50</td>\n      <td>35</td>\n      <td>30</td>\n      <td>6</td>\n      <td>3.17</td>\n      <td>2.33</td>\n    </tr>\n    <tr>\n      <th>10</th>\n      <td>40</td>\n      <td>30</td>\n      <td>25</td>\n      <td>5</td>\n      <td>2.50</td>\n      <td>4.50</td>\n    </tr>\n    <tr>\n      <th>4</th>\n      <td>30</td>\n      <td>25</td>\n      <td>10</td>\n      <td>4</td>\n      <td>1.57</td>\n      <td>6.15</td>\n    </tr>\n    <tr>\n      <th>2</th>\n      <td>30</td>\n      <td>25</td>\n      <td>25</td>\n      <td>12</td>\n      <td>1.57</td>\n      <td>2.33</td>\n    </tr>\n  </tbody>\n</table>\n</div>"
          },
          "metadata": {}
        }
      ]
    },
    {
      "cell_type": "code",
      "source": [
        "#Model Evaluation\n",
        "\n",
        "# Model 1\n",
        "_, train_mse = model1.evaluate(X_train, y_train, verbose = 0)\n",
        "_, test_mse = model1.evaluate(X_test, y_test, verbose = 0)\n",
        "print('Model 1 -> Train: {}, Test: {}'.format(train_mse, test_mse))\n",
        "\n",
        "# Model 2\n",
        "_, train_mse = model2.evaluate(X_train, y_train, verbose = 0)\n",
        "_, test_mse = model2.evaluate(X_test, y_test, verbose = 0)\n",
        "print('Model 2 -> Train: {}, Test: {}'.format(train_mse, test_mse))\n",
        "\n",
        "# Model 3\n",
        "_, train_mse = model3.evaluate(X_train, y_train, verbose = 0)\n",
        "_, test_mse = model3.evaluate(X_test, y_test, verbose = 0)\n",
        "print('Model 3 -> Train: {}, Test: {}'.format(train_mse, test_mse))\n",
        "\n",
        "# Model 4\n",
        "_, train_mse = model4.evaluate(X_train, y_train, verbose = 0)\n",
        "_, test_mse = model4.evaluate(X_test, y_test, verbose = 0)\n",
        "print('Model 4 -> Train: {}, Test: {}'.format(train_mse, test_mse))\n",
        "\n",
        "# Model 5\n",
        "_, train_mse = model5.evaluate(X_train, y_train, verbose = 0)\n",
        "_, test_mse = model5.evaluate(X_test, y_test, verbose = 0)\n",
        "print('Model 5 -> Train: {}, Test: {}'.format(train_mse, test_mse))\n",
        "\n",
        "# # Model 6\n",
        "_, train_mse = model6.evaluate(X_train, y_train, verbose = 0)\n",
        "_, test_mse = model6.evaluate(X_test, y_test, verbose = 0)\n",
        "print('Model 6 -> Train: {}, Test: {}'.format(train_mse, test_mse))"
      ],
      "metadata": {
        "execution": {
          "iopub.status.busy": "2024-04-21T20:54:55.178096Z",
          "iopub.execute_input": "2024-04-21T20:54:55.178477Z",
          "iopub.status.idle": "2024-04-21T20:54:56.2031Z",
          "shell.execute_reply.started": "2024-04-21T20:54:55.178449Z",
          "shell.execute_reply": "2024-04-21T20:54:56.202134Z"
        },
        "trusted": true,
        "id": "HNhz9Zd-Ws7z",
        "outputId": "38e802b9-009c-49a1-c5eb-c7158a1c8de9"
      },
      "execution_count": null,
      "outputs": [
        {
          "name": "stdout",
          "text": "Model 1 -> Train: 0.31881535053253174, Test: 0.6490452289581299\nModel 2 -> Train: 0.5520265102386475, Test: 0.748370885848999\nModel 3 -> Train: 1.2836384773254395, Test: 0.617428719997406\nModel 4 -> Train: 0.6149340271949768, Test: 0.9335139393806458\nModel 5 -> Train: 0.07194701582193375, Test: 0.17607493698596954\nModel 6 -> Train: 0.13842922449111938, Test: 0.47338977456092834\n",
          "output_type": "stream"
        }
      ]
    },
    {
      "cell_type": "code",
      "source": [
        "y_pred1 = model1.predict(X_test)\n",
        "y_pred2 = model2.predict(X_test)\n",
        "y_pred3 = model3.predict(X_test)\n",
        "y_pred4 = model4.predict(X_test)\n",
        "y_pred5 = model5.predict(X_test)\n",
        "y_pred6 = model6.predict(X_test)"
      ],
      "metadata": {
        "execution": {
          "iopub.status.busy": "2024-04-21T20:55:02.085309Z",
          "iopub.execute_input": "2024-04-21T20:55:02.087168Z",
          "iopub.status.idle": "2024-04-21T20:55:02.79154Z",
          "shell.execute_reply.started": "2024-04-21T20:55:02.087116Z",
          "shell.execute_reply": "2024-04-21T20:55:02.790339Z"
        },
        "trusted": true,
        "id": "juRncJrWWs70",
        "outputId": "64a90f2e-d9f0-42f5-aa4a-b9d06a8dedfe"
      },
      "execution_count": null,
      "outputs": [
        {
          "name": "stdout",
          "text": "\u001b[1m1/1\u001b[0m \u001b[32m━━━━━━━━━━━━━━━━━━━━\u001b[0m\u001b[37m\u001b[0m \u001b[1m0s\u001b[0m 64ms/step\n\u001b[1m1/1\u001b[0m \u001b[32m━━━━━━━━━━━━━━━━━━━━\u001b[0m\u001b[37m\u001b[0m \u001b[1m0s\u001b[0m 57ms/step\n\u001b[1m1/1\u001b[0m \u001b[32m━━━━━━━━━━━━━━━━━━━━\u001b[0m\u001b[37m\u001b[0m \u001b[1m0s\u001b[0m 57ms/step\n\u001b[1m1/1\u001b[0m \u001b[32m━━━━━━━━━━━━━━━━━━━━\u001b[0m\u001b[37m\u001b[0m \u001b[1m0s\u001b[0m 55ms/step\n\u001b[1m1/1\u001b[0m \u001b[32m━━━━━━━━━━━━━━━━━━━━\u001b[0m\u001b[37m\u001b[0m \u001b[1m0s\u001b[0m 59ms/step\n\u001b[1m1/1\u001b[0m \u001b[32m━━━━━━━━━━━━━━━━━━━━\u001b[0m\u001b[37m\u001b[0m \u001b[1m0s\u001b[0m 55ms/step\n",
          "output_type": "stream"
        }
      ]
    },
    {
      "cell_type": "code",
      "source": [
        "from sklearn.metrics import r2_score\n",
        "\n",
        "rscores = []\n",
        "for y_pred in [y_pred1, y_pred2, y_pred3, y_pred4, y_pred5, y_pred6]:\n",
        "    r2 = r2_score(y_test, y_pred)\n",
        "    rscores.append(r2)\n",
        "\n",
        "rscores_arr = np.array(rscores)\n",
        "\n",
        "rscores_df = pd.DataFrame({'R2 Score': rscores_arr})\n",
        "\n",
        "print(rscores_df)\n",
        "\n",
        "# r2_score(y_test, y_pred1)\n",
        "# r2_score(y_test, y_pred2)\n",
        "# r2_score(y_test, y_pred3)\n",
        "# r2_score(y_test, y_pred4)"
      ],
      "metadata": {
        "execution": {
          "iopub.status.busy": "2024-04-21T20:55:04.896018Z",
          "iopub.execute_input": "2024-04-21T20:55:04.897214Z",
          "iopub.status.idle": "2024-04-21T20:55:04.91258Z",
          "shell.execute_reply.started": "2024-04-21T20:55:04.897169Z",
          "shell.execute_reply": "2024-04-21T20:55:04.910286Z"
        },
        "trusted": true,
        "id": "awMZUvFOWs70",
        "outputId": "197dfb33-0a53-400e-bb7c-6ab70bd1801c"
      },
      "execution_count": null,
      "outputs": [
        {
          "name": "stdout",
          "text": "   R2 Score\n0 -1.880878\n1 -2.321749\n2 -1.740544\n3 -3.143533\n4  0.218467\n5 -1.101207\n",
          "output_type": "stream"
        }
      ]
    },
    {
      "cell_type": "code",
      "source": [
        "import matplotlib.pyplot as plt\n"
      ],
      "metadata": {
        "execution": {
          "iopub.status.busy": "2024-04-21T20:55:06.721031Z",
          "iopub.execute_input": "2024-04-21T20:55:06.722241Z",
          "iopub.status.idle": "2024-04-21T20:55:06.72766Z",
          "shell.execute_reply.started": "2024-04-21T20:55:06.722198Z",
          "shell.execute_reply": "2024-04-21T20:55:06.726376Z"
        },
        "trusted": true,
        "id": "5Z2O6DpEWs70"
      },
      "execution_count": null,
      "outputs": []
    },
    {
      "cell_type": "code",
      "source": [
        "fig, ax = plt.subplots(figsize=(12, 6))\n",
        "\n",
        "marker_interval = 20\n",
        "# ax.plot(history1.history['mse'], label='Relu', markevery=marker_interval, marker='o')\n",
        "# ax.plot(history2.history['mse'], label='Sigmoid', markevery=marker_interval, marker='s')\n",
        "# ax.plot(history3.history['mse'], label='tanh', markevery=marker_interval, marker='^')\n",
        "# ax.plot(history4.history['mse'], label='Leaky Relu', markevery=marker_interval, marker='x')\n",
        "\n",
        "ax.plot(history1.history['mse'], label='6,6', markevery=marker_interval, marker='o')\n",
        "ax.plot(history2.history['mse'], label='6,3', markevery=marker_interval, marker='s')\n",
        "ax.plot(history3.history['mse'], label='8,4', markevery=marker_interval, marker='^')\n",
        "ax.plot(history4.history['mse'], label='5,7', markevery=marker_interval, marker='x')\n",
        "ax.plot(history5.history['mse'], label='3,3', markevery=marker_interval, marker='+')\n",
        "ax.plot(history6.history['mse'], label='4,6', markevery=marker_interval, marker='D')\n",
        "\n",
        "ax.set_ylim(-1, 20)\n",
        "ax.set_xlim(0, 250)\n",
        "\n",
        "ax.set_xlabel('Epochs')\n",
        "ax.set_ylabel('MSE')\n",
        "ax.set_title('Training MSE')\n",
        "ax.legend()\n",
        "\n",
        "plt.show()\n",
        "\n",
        "# plt.plot(history1.history['mse'], label='Training MSE')\n",
        "# plt.plot(history2.history['mse'], label='Training MSE')\n",
        "# plt.plot(history3.history['mse'], label='Training MSE')\n",
        "\n",
        "# plt.plot(history.history['val_mse'], label='Validation MSE')\n",
        "# plt.xlabel('epochs')\n",
        "# plt.ylabel('MSE')\n",
        "# plt.legend()\n",
        "# plt.show()"
      ],
      "metadata": {
        "execution": {
          "iopub.status.busy": "2024-04-21T20:55:08.52098Z",
          "iopub.execute_input": "2024-04-21T20:55:08.521392Z",
          "iopub.status.idle": "2024-04-21T20:55:08.887281Z",
          "shell.execute_reply.started": "2024-04-21T20:55:08.52136Z",
          "shell.execute_reply": "2024-04-21T20:55:08.885826Z"
        },
        "trusted": true,
        "id": "s43MmHDXWs71",
        "outputId": "13b23e15-73c7-4c91-f931-dc56a937c0d9"
      },
      "execution_count": null,
      "outputs": [
        {
          "output_type": "display_data",
          "data": {
            "text/plain": "<Figure size 1200x600 with 1 Axes>",
            "image/png": "[encoded data removed]"
          },
          "metadata": {}
        }
      ]
    },
    {
      "cell_type": "code",
      "source": [
        "plt.plot(history6.history['loss'], label='Loss')\n",
        "plt.plot(history6.history['val_loss'], label='Validation Loss')\n",
        "plt.xlabel('epochs')\n",
        "plt.ylabel('Losses')\n",
        "plt.legend()\n",
        "plt.show()"
      ],
      "metadata": {
        "execution": {
          "iopub.status.busy": "2024-04-21T20:50:58.580511Z",
          "iopub.execute_input": "2024-04-21T20:50:58.581709Z",
          "iopub.status.idle": "2024-04-21T20:50:58.804926Z",
          "shell.execute_reply.started": "2024-04-21T20:50:58.581669Z",
          "shell.execute_reply": "2024-04-21T20:50:58.803847Z"
        },
        "trusted": true,
        "id": "rJ-HBzIsWs71",
        "outputId": "ab7c3e02-9f11-4264-f371-491e00664059"
      },
      "execution_count": null,
      "outputs": [
        {
          "output_type": "display_data",
          "data": {
            "text/plain": "<Figure size 640x480 with 1 Axes>",
            "image/png": "[encoded data removed]"
          },
          "metadata": {}
        }
      ]
    },
    {
      "cell_type": "code",
      "source": [
        "plt.plot(history6.history['mse'], label='Training MSE')\n",
        "plt.plot(history6.history['val_mse'], label='Validation MSE')\n",
        "plt.xlabel('epochs')\n",
        "plt.ylabel('MSE')\n",
        "plt.legend()\n",
        "plt.show()"
      ],
      "metadata": {
        "execution": {
          "iopub.status.busy": "2024-04-21T20:51:01.263051Z",
          "iopub.execute_input": "2024-04-21T20:51:01.263453Z",
          "iopub.status.idle": "2024-04-21T20:51:01.510224Z",
          "shell.execute_reply.started": "2024-04-21T20:51:01.263424Z",
          "shell.execute_reply": "2024-04-21T20:51:01.508932Z"
        },
        "trusted": true,
        "id": "leRzFm6EWs71",
        "outputId": "db40d375-9240-443b-a7e8-24b4a76be1b6"
      },
      "execution_count": null,
      "outputs": [
        {
          "output_type": "display_data",
          "data": {
            "text/plain": "<Figure size 640x480 with 1 Axes>",
            "image/png": "[encoded data removed]"
          },
          "metadata": {}
        }
      ]
    },
    {
      "cell_type": "code",
      "source": [],
      "metadata": {
        "id": "bAzhVkBmWs71"
      },
      "execution_count": null,
      "outputs": []
    }
  ]
}